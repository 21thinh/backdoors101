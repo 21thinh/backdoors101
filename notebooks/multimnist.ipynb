{
 "cells": [
  {
   "cell_type": "code",
   "execution_count": 1,
   "metadata": {},
   "outputs": [],
   "source": [
    "%load_ext autoreload\n",
    "%autoreload 2"
   ]
  },
  {
   "cell_type": "code",
   "execution_count": 2,
   "metadata": {},
   "outputs": [],
   "source": [
    "import torch\n",
    "import torchvision\n",
    "import matplotlib.pyplot as plt\n",
    "from torchvision import transforms\n",
    "import matplotlib.pyplot as plt\n",
    "from data.multi_mnist_loader import MNIST\n",
    "from utils.utils import *\n",
    "from torchvision.transforms import ToPILImage\n",
    "\n",
    "pilimage = ToPILImage()\n",
    "import cv2\n",
    "\n",
    "def global_transformer():\n",
    "    return transforms.Compose([transforms.ToTensor(),\n",
    "                               transforms.Normalize((0.1307,), (0.3081,))])\n",
    "\n"
   ]
  },
  {
   "cell_type": "code",
   "execution_count": null,
   "metadata": {},
   "outputs": [],
   "source": []
  },
  {
   "cell_type": "code",
   "execution_count": 3,
   "metadata": {},
   "outputs": [
    {
     "data": {
      "text/plain": [
       "Net(\n",
       "  (conv1): Conv2d(1, 20, kernel_size=(5, 5), stride=(1, 1))\n",
       "  (conv2): Conv2d(20, 50, kernel_size=(5, 5), stride=(1, 1))\n",
       "  (fc1): Linear(in_features=800, out_features=500, bias=True)\n",
       "  (fc2): Linear(in_features=500, out_features=10, bias=True)\n",
       ")"
      ]
     },
     "execution_count": 3,
     "metadata": {},
     "output_type": "execute_result"
    }
   ],
   "source": [
    "from models.simple import Net\n",
    "model = Net()\n",
    "saved = torch.load('saved_models/model_image_Sep.20_11.24.02/model_last.pt.tar.best')\n",
    "model.load_state_dict(saved['state_dict'])\n",
    "model.to('cpu')"
   ]
  },
  {
   "cell_type": "code",
   "execution_count": 4,
   "metadata": {},
   "outputs": [],
   "source": [
    "\n",
    "dst = MNIST(root='./data', train=True, download=True, transform=global_transformer(), multi=True)\n",
    "loader = torch.utils.data.DataLoader(dst, batch_size=5, shuffle=False, num_workers=4)\n",
    "\n"
   ]
  },
  {
   "cell_type": "code",
   "execution_count": 119,
   "metadata": {},
   "outputs": [
    {
     "ename": "IndexError",
     "evalue": "Dimension out of range (expected to be in range of [-1, 0], but got 1)",
     "output_type": "error",
     "traceback": [
      "\u001b[0;31m---------------------------------------------------------------------------\u001b[0m",
      "\u001b[0;31mIndexError\u001b[0m                                Traceback (most recent call last)",
      "\u001b[0;32m<ipython-input-119-3d691eab9d75>\u001b[0m in \u001b[0;36m<module>\u001b[0;34m\u001b[0m\n\u001b[1;32m      8\u001b[0m     \u001b[0mlabs_r\u001b[0m \u001b[0;34m=\u001b[0m \u001b[0mdat\u001b[0m\u001b[0;34m[\u001b[0m\u001b[0;36m2\u001b[0m\u001b[0;34m]\u001b[0m\u001b[0;34m\u001b[0m\u001b[0;34m\u001b[0m\u001b[0m\n\u001b[1;32m      9\u001b[0m     \u001b[0mf\u001b[0m\u001b[0;34m,\u001b[0m \u001b[0maxarr\u001b[0m \u001b[0;34m=\u001b[0m \u001b[0mplt\u001b[0m\u001b[0;34m.\u001b[0m\u001b[0msubplots\u001b[0m\u001b[0;34m(\u001b[0m\u001b[0;36m2\u001b[0m\u001b[0;34m,\u001b[0m \u001b[0;36m5\u001b[0m\u001b[0;34m,\u001b[0m \u001b[0mfigsize\u001b[0m\u001b[0;34m=\u001b[0m\u001b[0;34m(\u001b[0m\u001b[0;36m20\u001b[0m\u001b[0;34m,\u001b[0m\u001b[0;36m10\u001b[0m\u001b[0;34m)\u001b[0m\u001b[0;34m)\u001b[0m\u001b[0;34m\u001b[0m\u001b[0;34m\u001b[0m\u001b[0m\n\u001b[0;32m---> 10\u001b[0;31m     \u001b[0mtrue_pred\u001b[0m \u001b[0;34m=\u001b[0m \u001b[0mtorch\u001b[0m\u001b[0;34m.\u001b[0m\u001b[0mmax\u001b[0m\u001b[0;34m(\u001b[0m\u001b[0mmodel\u001b[0m\u001b[0;34m(\u001b[0m\u001b[0minputs\u001b[0m\u001b[0;34m)\u001b[0m\u001b[0;34m[\u001b[0m\u001b[0;36m0\u001b[0m\u001b[0;34m]\u001b[0m\u001b[0;34m,\u001b[0m \u001b[0;36m1\u001b[0m\u001b[0;34m)\u001b[0m\u001b[0;34m[\u001b[0m\u001b[0;36m1\u001b[0m\u001b[0;34m]\u001b[0m\u001b[0;34m.\u001b[0m\u001b[0mnumpy\u001b[0m\u001b[0;34m(\u001b[0m\u001b[0;34m)\u001b[0m\u001b[0;34m\u001b[0m\u001b[0;34m\u001b[0m\u001b[0m\n\u001b[0m\u001b[1;32m     11\u001b[0m     \u001b[0mback_pred\u001b[0m \u001b[0;34m=\u001b[0m \u001b[0mtorch\u001b[0m\u001b[0;34m.\u001b[0m\u001b[0mmax\u001b[0m\u001b[0;34m(\u001b[0m\u001b[0mmodel\u001b[0m\u001b[0;34m(\u001b[0m\u001b[0minputs_back\u001b[0m\u001b[0;34m)\u001b[0m\u001b[0;34m[\u001b[0m\u001b[0;36m0\u001b[0m\u001b[0;34m]\u001b[0m\u001b[0;34m,\u001b[0m \u001b[0;36m1\u001b[0m\u001b[0;34m)\u001b[0m\u001b[0;34m[\u001b[0m\u001b[0;36m1\u001b[0m\u001b[0;34m]\u001b[0m\u001b[0;34m.\u001b[0m\u001b[0mnumpy\u001b[0m\u001b[0;34m(\u001b[0m\u001b[0;34m)\u001b[0m\u001b[0;34m\u001b[0m\u001b[0;34m\u001b[0m\u001b[0m\n\u001b[1;32m     12\u001b[0m     \u001b[0;32mfor\u001b[0m \u001b[0mj\u001b[0m \u001b[0;32min\u001b[0m \u001b[0mrange\u001b[0m\u001b[0;34m(\u001b[0m\u001b[0;36m5\u001b[0m\u001b[0;34m)\u001b[0m\u001b[0;34m:\u001b[0m\u001b[0;34m\u001b[0m\u001b[0;34m\u001b[0m\u001b[0m\n",
      "\u001b[0;31mIndexError\u001b[0m: Dimension out of range (expected to be in range of [-1, 0], but got 1)"
     ]
    },
    {
     "data": {
      "image/png": "[encoded data removed]",
      "text/plain": [
       "<Figure size 1440x720 with 10 Axes>"
      ]
     },
     "metadata": {
      "needs_background": "light"
     },
     "output_type": "display_data"
    }
   ],
   "source": [
    "for dat in loader:\n",
    "    ims = dat[0].view(5, 28, 28).numpy()\n",
    "    inputs, labels, second_labels = dat \n",
    "    inputs_back, labels_back = poison_pattern_mnist(inputs, labels, 8, 1.1)\n",
    "    ims_back = inputs_back.view(5, 28, 28).numpy()\n",
    "\n",
    "    labs_l = dat[1]\n",
    "    labs_r = dat[2]\n",
    "    f, axarr = plt.subplots(2, 5, figsize=(20,10))\n",
    "    true_pred = torch.max(model(inputs)[0], 1)[1].numpy()\n",
    "    back_pred = torch.max(model(inputs_back)[0], 1)[1].numpy()\n",
    "    for j in range(5):\n",
    "#         for i in range(2):\n",
    "            axarr[0][j].imshow(ims[j, :, :], cmap='gray')\n",
    "            axarr[0][j].set_title(f'Label: {labs_l[j]}. Predicted: {true_pred[j]}')\n",
    "            axarr[1][j].imshow(ims_back[j, :, :], cmap='gray')\n",
    "            axarr[1][j].set_title(f'Label: {labs_r[j]}. Predicted: {back_pred[j]}')\n",
    "    plt.show()\n",
    "#     print(f'true: {labels.numpy()}') \n",
    "#     print(f'prediction true: {torch.max(model(inputs)[0], 1)[1].numpy()}') \n",
    "#     print(f'backdoor: {second_labels.numpy()}') \n",
    "#     print(f'prediction backdoor: {torch.max(model(inputs_back)[0], 1)[1].numpy()}') \n",
    "    break\n",
    "#     a = input()\n",
    "#     if a == 'ex':\n",
    "#         break\n",
    "#     else:\n",
    "#         plt.close()\n"
   ]
  },
  {
   "cell_type": "code",
   "execution_count": 18,
   "metadata": {},
   "outputs": [
    {
     "name": "stdout",
     "output_type": "stream",
     "text": [
      "true: [2 1 1 4 2]\n",
      "prediction true: tensor([2, 1, 1, 4, 2])\n",
      "backdoor: tensor([8, 7, 4, 0, 8])\n",
      "prediction backdoor: tensor([2, 1, 1, 0, 2])\n"
     ]
    }
   ],
   "source": [
    "print(f'true: {labels.numpy()}') \n",
    "print(f'prediction true: {torch.max(model(inputs)[0], 1)[1]}') \n",
    "print(f'backdoor: {second_labels}') \n",
    "print(f'prediction backdoor: {torch.max(model(inputs_back)[0], 1)[1]}') "
   ]
  },
  {
   "cell_type": "code",
   "execution_count": 19,
   "metadata": {},
   "outputs": [
    {
     "name": "stdout",
     "output_type": "stream",
     "text": [
      "true: [2 1 1 4 2]\n",
      "prediction true: tensor([2, 1, 1, 4, 2])\n",
      "backdoor: tensor([8, 7, 4, 0, 8])\n",
      "prediction backdoor: tensor([2, 1, 1, 0, 2])\n"
     ]
    }
   ],
   "source": [
    "print(f'true: {labels.numpy()}') \n",
    "print(f'prediction true: {torch.max(model(inputs)[0], 1)[1]}') \n",
    "print(f'backdoor: {second_labels}') \n",
    "print(f'prediction backdoor: {torch.max(model(inputs_back)[0], 1)[1]}') "
   ]
  },
  {
   "cell_type": "code",
   "execution_count": 5,
   "metadata": {},
   "outputs": [],
   "source": [
    "from utils.utils import *"
   ]
  },
  {
   "cell_type": "code",
   "execution_count": 5,
   "metadata": {},
   "outputs": [
    {
     "ename": "NameError",
     "evalue": "name 'dat' is not defined",
     "output_type": "error",
     "traceback": [
      "\u001b[0;31m---------------------------------------------------------------------------\u001b[0m",
      "\u001b[0;31mNameError\u001b[0m                                 Traceback (most recent call last)",
      "\u001b[0;32m<ipython-input-5-f3656d46622b>\u001b[0m in \u001b[0;36m<module>\u001b[0;34m\u001b[0m\n\u001b[0;32m----> 1\u001b[0;31m \u001b[0minputs\u001b[0m\u001b[0;34m,\u001b[0m \u001b[0mlabels\u001b[0m\u001b[0;34m,\u001b[0m \u001b[0msecond_labels\u001b[0m \u001b[0;34m=\u001b[0m \u001b[0mdat\u001b[0m\u001b[0;34m\u001b[0m\u001b[0;34m\u001b[0m\u001b[0m\n\u001b[0m",
      "\u001b[0;31mNameError\u001b[0m: name 'dat' is not defined"
     ]
    }
   ],
   "source": [
    "inputs, labels, second_labels = dat "
   ]
  },
  {
   "cell_type": "code",
   "execution_count": 6,
   "metadata": {},
   "outputs": [
    {
     "ename": "NameError",
     "evalue": "name 'inputs' is not defined",
     "output_type": "error",
     "traceback": [
      "\u001b[0;31m---------------------------------------------------------------------------\u001b[0m",
      "\u001b[0;31mNameError\u001b[0m                                 Traceback (most recent call last)",
      "\u001b[0;32m<ipython-input-6-70d616b67f89>\u001b[0m in \u001b[0;36m<module>\u001b[0;34m\u001b[0m\n\u001b[0;32m----> 1\u001b[0;31m \u001b[0minputs\u001b[0m\u001b[0;34m.\u001b[0m\u001b[0mshape\u001b[0m\u001b[0;34m\u001b[0m\u001b[0;34m\u001b[0m\u001b[0m\n\u001b[0m",
      "\u001b[0;31mNameError\u001b[0m: name 'inputs' is not defined"
     ]
    }
   ],
   "source": [
    "inputs.shape"
   ]
  },
  {
   "cell_type": "code",
   "execution_count": 23,
   "metadata": {},
   "outputs": [
    {
     "data": {
      "text/plain": [
       "tensor([2.8215, 2.8215, 2.8215, 2.8215, 2.8215])"
      ]
     },
     "execution_count": 23,
     "metadata": {},
     "output_type": "execute_result"
    }
   ],
   "source": [
    "inputs.view(5,-1).max(1)[0]"
   ]
  },
  {
   "cell_type": "code",
   "execution_count": 24,
   "metadata": {},
   "outputs": [],
   "source": [
    "inputs_back, labels_back = poison_pattern_mnist(inputs, labels, 8, 1.1)"
   ]
  },
  {
   "cell_type": "code",
   "execution_count": 26,
   "metadata": {},
   "outputs": [
    {
     "data": {
      "application/javascript": [
       "/* Put everything inside the global mpl namespace */\n",
       "window.mpl = {};\n",
       "\n",
       "\n",
       "mpl.get_websocket_type = function() {\n",
       "    if (typeof(WebSocket) !== 'undefined') {\n",
       "        return WebSocket;\n",
       "    } else if (typeof(MozWebSocket) !== 'undefined') {\n",
       "        return MozWebSocket;\n",
       "    } else {\n",
       "        alert('Your browser does not have WebSocket support.' +\n",
       "              'Please try Chrome, Safari or Firefox ≥ 6. ' +\n",
       "              'Firefox 4 and 5 are also supported but you ' +\n",
       "              'have to enable WebSockets in about:config.');\n",
       "    };\n",
       "}\n",
       "\n",
       "mpl.figure = function(figure_id, websocket, ondownload, parent_element) {\n",
       "    this.id = figure_id;\n",
       "\n",
       "    this.ws = websocket;\n",
       "\n",
       "    this.supports_binary = (this.ws.binaryType != undefined);\n",
       "\n",
       "    if (!this.supports_binary) {\n",
       "        var warnings = document.getElementById(\"mpl-warnings\");\n",
       "        if (warnings) {\n",
       "            warnings.style.display = 'block';\n",
       "            warnings.textContent = (\n",
       "                \"This browser does not support binary websocket messages. \" +\n",
       "                    \"Performance may be slow.\");\n",
       "        }\n",
       "    }\n",
       "\n",
       "    this.imageObj = new Image();\n",
       "\n",
       "    this.context = undefined;\n",
       "    this.message = undefined;\n",
       "    this.canvas = undefined;\n",
       "    this.rubberband_canvas = undefined;\n",
       "    this.rubberband_context = undefined;\n",
       "    this.format_dropdown = undefined;\n",
       "\n",
       "    this.image_mode = 'full';\n",
       "\n",
       "    this.root = $('<div/>');\n",
       "    this._root_extra_style(this.root)\n",
       "    this.root.attr('style', 'display: inline-block');\n",
       "\n",
       "    $(parent_element).append(this.root);\n",
       "\n",
       "    this._init_header(this);\n",
       "    this._init_canvas(this);\n",
       "    this._init_toolbar(this);\n",
       "\n",
       "    var fig = this;\n",
       "\n",
       "    this.waiting = false;\n",
       "\n",
       "    this.ws.onopen =  function () {\n",
       "            fig.send_message(\"supports_binary\", {value: fig.supports_binary});\n",
       "            fig.send_message(\"send_image_mode\", {});\n",
       "            if (mpl.ratio != 1) {\n",
       "                fig.send_message(\"set_dpi_ratio\", {'dpi_ratio': mpl.ratio});\n",
       "            }\n",
       "            fig.send_message(\"refresh\", {});\n",
       "        }\n",
       "\n",
       "    this.imageObj.onload = function() {\n",
       "            if (fig.image_mode == 'full') {\n",
       "                // Full images could contain transparency (where diff images\n",
       "                // almost always do), so we need to clear the canvas so that\n",
       "                // there is no ghosting.\n",
       "                fig.context.clearRect(0, 0, fig.canvas.width, fig.canvas.height);\n",
       "            }\n",
       "            fig.context.drawImage(fig.imageObj, 0, 0);\n",
       "        };\n",
       "\n",
       "    this.imageObj.onunload = function() {\n",
       "        fig.ws.close();\n",
       "    }\n",
       "\n",
       "    this.ws.onmessage = this._make_on_message_function(this);\n",
       "\n",
       "    this.ondownload = ondownload;\n",
       "}\n",
       "\n",
       "mpl.figure.prototype._init_header = function() {\n",
       "    var titlebar = $(\n",
       "        '<div class=\"ui-dialog-titlebar ui-widget-header ui-corner-all ' +\n",
       "        'ui-helper-clearfix\"/>');\n",
       "    var titletext = $(\n",
       "        '<div class=\"ui-dialog-title\" style=\"width: 100%; ' +\n",
       "        'text-align: center; padding: 3px;\"/>');\n",
       "    titlebar.append(titletext)\n",
       "    this.root.append(titlebar);\n",
       "    this.header = titletext[0];\n",
       "}\n",
       "\n",
       "\n",
       "\n",
       "mpl.figure.prototype._canvas_extra_style = function(canvas_div) {\n",
       "\n",
       "}\n",
       "\n",
       "\n",
       "mpl.figure.prototype._root_extra_style = function(canvas_div) {\n",
       "\n",
       "}\n",
       "\n",
       "mpl.figure.prototype._init_canvas = function() {\n",
       "    var fig = this;\n",
       "\n",
       "    var canvas_div = $('<div/>');\n",
       "\n",
       "    canvas_div.attr('style', 'position: relative; clear: both; outline: 0');\n",
       "\n",
       "    function canvas_keyboard_event(event) {\n",
       "        return fig.key_event(event, event['data']);\n",
       "    }\n",
       "\n",
       "    canvas_div.keydown('key_press', canvas_keyboard_event);\n",
       "    canvas_div.keyup('key_release', canvas_keyboard_event);\n",
       "    this.canvas_div = canvas_div\n",
       "    this._canvas_extra_style(canvas_div)\n",
       "    this.root.append(canvas_div);\n",
       "\n",
       "    var canvas = $('<canvas/>');\n",
       "    canvas.addClass('mpl-canvas');\n",
       "    canvas.attr('style', \"left: 0; top: 0; z-index: 0; outline: 0\")\n",
       "\n",
       "    this.canvas = canvas[0];\n",
       "    this.context = canvas[0].getContext(\"2d\");\n",
       "\n",
       "    var backingStore = this.context.backingStorePixelRatio ||\n",
       "\tthis.context.webkitBackingStorePixelRatio ||\n",
       "\tthis.context.mozBackingStorePixelRatio ||\n",
       "\tthis.context.msBackingStorePixelRatio ||\n",
       "\tthis.context.oBackingStorePixelRatio ||\n",
       "\tthis.context.backingStorePixelRatio || 1;\n",
       "\n",
       "    mpl.ratio = (window.devicePixelRatio || 1) / backingStore;\n",
       "\n",
       "    var rubberband = $('<canvas/>');\n",
       "    rubberband.attr('style', \"position: absolute; left: 0; top: 0; z-index: 1;\")\n",
       "\n",
       "    var pass_mouse_events = true;\n",
       "\n",
       "    canvas_div.resizable({\n",
       "        start: function(event, ui) {\n",
       "            pass_mouse_events = false;\n",
       "        },\n",
       "        resize: function(event, ui) {\n",
       "            fig.request_resize(ui.size.width, ui.size.height);\n",
       "        },\n",
       "        stop: function(event, ui) {\n",
       "            pass_mouse_events = true;\n",
       "            fig.request_resize(ui.size.width, ui.size.height);\n",
       "        },\n",
       "    });\n",
       "\n",
       "    function mouse_event_fn(event) {\n",
       "        if (pass_mouse_events)\n",
       "            return fig.mouse_event(event, event['data']);\n",
       "    }\n",
       "\n",
       "    rubberband.mousedown('button_press', mouse_event_fn);\n",
       "    rubberband.mouseup('button_release', mouse_event_fn);\n",
       "    // Throttle sequential mouse events to 1 every 20ms.\n",
       "    rubberband.mousemove('motion_notify', mouse_event_fn);\n",
       "\n",
       "    rubberband.mouseenter('figure_enter', mouse_event_fn);\n",
       "    rubberband.mouseleave('figure_leave', mouse_event_fn);\n",
       "\n",
       "    canvas_div.on(\"wheel\", function (event) {\n",
       "        event = event.originalEvent;\n",
       "        event['data'] = 'scroll'\n",
       "        if (event.deltaY < 0) {\n",
       "            event.step = 1;\n",
       "        } else {\n",
       "            event.step = -1;\n",
       "        }\n",
       "        mouse_event_fn(event);\n",
       "    });\n",
       "\n",
       "    canvas_div.append(canvas);\n",
       "    canvas_div.append(rubberband);\n",
       "\n",
       "    this.rubberband = rubberband;\n",
       "    this.rubberband_canvas = rubberband[0];\n",
       "    this.rubberband_context = rubberband[0].getContext(\"2d\");\n",
       "    this.rubberband_context.strokeStyle = \"#000000\";\n",
       "\n",
       "    this._resize_canvas = function(width, height) {\n",
       "        // Keep the size of the canvas, canvas container, and rubber band\n",
       "        // canvas in synch.\n",
       "        canvas_div.css('width', width)\n",
       "        canvas_div.css('height', height)\n",
       "\n",
       "        canvas.attr('width', width * mpl.ratio);\n",
       "        canvas.attr('height', height * mpl.ratio);\n",
       "        canvas.attr('style', 'width: ' + width + 'px; height: ' + height + 'px;');\n",
       "\n",
       "        rubberband.attr('width', width);\n",
       "        rubberband.attr('height', height);\n",
       "    }\n",
       "\n",
       "    // Set the figure to an initial 600x600px, this will subsequently be updated\n",
       "    // upon first draw.\n",
       "    this._resize_canvas(600, 600);\n",
       "\n",
       "    // Disable right mouse context menu.\n",
       "    $(this.rubberband_canvas).bind(\"contextmenu\",function(e){\n",
       "        return false;\n",
       "    });\n",
       "\n",
       "    function set_focus () {\n",
       "        canvas.focus();\n",
       "        canvas_div.focus();\n",
       "    }\n",
       "\n",
       "    window.setTimeout(set_focus, 100);\n",
       "}\n",
       "\n",
       "mpl.figure.prototype._init_toolbar = function() {\n",
       "    var fig = this;\n",
       "\n",
       "    var nav_element = $('<div/>')\n",
       "    nav_element.attr('style', 'width: 100%');\n",
       "    this.root.append(nav_element);\n",
       "\n",
       "    // Define a callback function for later on.\n",
       "    function toolbar_event(event) {\n",
       "        return fig.toolbar_button_onclick(event['data']);\n",
       "    }\n",
       "    function toolbar_mouse_event(event) {\n",
       "        return fig.toolbar_button_onmouseover(event['data']);\n",
       "    }\n",
       "\n",
       "    for(var toolbar_ind in mpl.toolbar_items) {\n",
       "        var name = mpl.toolbar_items[toolbar_ind][0];\n",
       "        var tooltip = mpl.toolbar_items[toolbar_ind][1];\n",
       "        var image = mpl.toolbar_items[toolbar_ind][2];\n",
       "        var method_name = mpl.toolbar_items[toolbar_ind][3];\n",
       "\n",
       "        if (!name) {\n",
       "            // put a spacer in here.\n",
       "            continue;\n",
       "        }\n",
       "        var button = $('<button/>');\n",
       "        button.addClass('ui-button ui-widget ui-state-default ui-corner-all ' +\n",
       "                        'ui-button-icon-only');\n",
       "        button.attr('role', 'button');\n",
       "        button.attr('aria-disabled', 'false');\n",
       "        button.click(method_name, toolbar_event);\n",
       "        button.mouseover(tooltip, toolbar_mouse_event);\n",
       "\n",
       "        var icon_img = $('<span/>');\n",
       "        icon_img.addClass('ui-button-icon-primary ui-icon');\n",
       "        icon_img.addClass(image);\n",
       "        icon_img.addClass('ui-corner-all');\n",
       "\n",
       "        var tooltip_span = $('<span/>');\n",
       "        tooltip_span.addClass('ui-button-text');\n",
       "        tooltip_span.html(tooltip);\n",
       "\n",
       "        button.append(icon_img);\n",
       "        button.append(tooltip_span);\n",
       "\n",
       "        nav_element.append(button);\n",
       "    }\n",
       "\n",
       "    var fmt_picker_span = $('<span/>');\n",
       "\n",
       "    var fmt_picker = $('<select/>');\n",
       "    fmt_picker.addClass('mpl-toolbar-option ui-widget ui-widget-content');\n",
       "    fmt_picker_span.append(fmt_picker);\n",
       "    nav_element.append(fmt_picker_span);\n",
       "    this.format_dropdown = fmt_picker[0];\n",
       "\n",
       "    for (var ind in mpl.extensions) {\n",
       "        var fmt = mpl.extensions[ind];\n",
       "        var option = $(\n",
       "            '<option/>', {selected: fmt === mpl.default_extension}).html(fmt);\n",
       "        fmt_picker.append(option)\n",
       "    }\n",
       "\n",
       "    // Add hover states to the ui-buttons\n",
       "    $( \".ui-button\" ).hover(\n",
       "        function() { $(this).addClass(\"ui-state-hover\");},\n",
       "        function() { $(this).removeClass(\"ui-state-hover\");}\n",
       "    );\n",
       "\n",
       "    var status_bar = $('<span class=\"mpl-message\"/>');\n",
       "    nav_element.append(status_bar);\n",
       "    this.message = status_bar[0];\n",
       "}\n",
       "\n",
       "mpl.figure.prototype.request_resize = function(x_pixels, y_pixels) {\n",
       "    // Request matplotlib to resize the figure. Matplotlib will then trigger a resize in the client,\n",
       "    // which will in turn request a refresh of the image.\n",
       "    this.send_message('resize', {'width': x_pixels, 'height': y_pixels});\n",
       "}\n",
       "\n",
       "mpl.figure.prototype.send_message = function(type, properties) {\n",
       "    properties['type'] = type;\n",
       "    properties['figure_id'] = this.id;\n",
       "    this.ws.send(JSON.stringify(properties));\n",
       "}\n",
       "\n",
       "mpl.figure.prototype.send_draw_message = function() {\n",
       "    if (!this.waiting) {\n",
       "        this.waiting = true;\n",
       "        this.ws.send(JSON.stringify({type: \"draw\", figure_id: this.id}));\n",
       "    }\n",
       "}\n",
       "\n",
       "\n",
       "mpl.figure.prototype.handle_save = function(fig, msg) {\n",
       "    var format_dropdown = fig.format_dropdown;\n",
       "    var format = format_dropdown.options[format_dropdown.selectedIndex].value;\n",
       "    fig.ondownload(fig, format);\n",
       "}\n",
       "\n",
       "\n",
       "mpl.figure.prototype.handle_resize = function(fig, msg) {\n",
       "    var size = msg['size'];\n",
       "    if (size[0] != fig.canvas.width || size[1] != fig.canvas.height) {\n",
       "        fig._resize_canvas(size[0], size[1]);\n",
       "        fig.send_message(\"refresh\", {});\n",
       "    };\n",
       "}\n",
       "\n",
       "mpl.figure.prototype.handle_rubberband = function(fig, msg) {\n",
       "    var x0 = msg['x0'] / mpl.ratio;\n",
       "    var y0 = (fig.canvas.height - msg['y0']) / mpl.ratio;\n",
       "    var x1 = msg['x1'] / mpl.ratio;\n",
       "    var y1 = (fig.canvas.height - msg['y1']) / mpl.ratio;\n",
       "    x0 = Math.floor(x0) + 0.5;\n",
       "    y0 = Math.floor(y0) + 0.5;\n",
       "    x1 = Math.floor(x1) + 0.5;\n",
       "    y1 = Math.floor(y1) + 0.5;\n",
       "    var min_x = Math.min(x0, x1);\n",
       "    var min_y = Math.min(y0, y1);\n",
       "    var width = Math.abs(x1 - x0);\n",
       "    var height = Math.abs(y1 - y0);\n",
       "\n",
       "    fig.rubberband_context.clearRect(\n",
       "        0, 0, fig.canvas.width, fig.canvas.height);\n",
       "\n",
       "    fig.rubberband_context.strokeRect(min_x, min_y, width, height);\n",
       "}\n",
       "\n",
       "mpl.figure.prototype.handle_figure_label = function(fig, msg) {\n",
       "    // Updates the figure title.\n",
       "    fig.header.textContent = msg['label'];\n",
       "}\n",
       "\n",
       "mpl.figure.prototype.handle_cursor = function(fig, msg) {\n",
       "    var cursor = msg['cursor'];\n",
       "    switch(cursor)\n",
       "    {\n",
       "    case 0:\n",
       "        cursor = 'pointer';\n",
       "        break;\n",
       "    case 1:\n",
       "        cursor = 'default';\n",
       "        break;\n",
       "    case 2:\n",
       "        cursor = 'crosshair';\n",
       "        break;\n",
       "    case 3:\n",
       "        cursor = 'move';\n",
       "        break;\n",
       "    }\n",
       "    fig.rubberband_canvas.style.cursor = cursor;\n",
       "}\n",
       "\n",
       "mpl.figure.prototype.handle_message = function(fig, msg) {\n",
       "    fig.message.textContent = msg['message'];\n",
       "}\n",
       "\n",
       "mpl.figure.prototype.handle_draw = function(fig, msg) {\n",
       "    // Request the server to send over a new figure.\n",
       "    fig.send_draw_message();\n",
       "}\n",
       "\n",
       "mpl.figure.prototype.handle_image_mode = function(fig, msg) {\n",
       "    fig.image_mode = msg['mode'];\n",
       "}\n",
       "\n",
       "mpl.figure.prototype.updated_canvas_event = function() {\n",
       "    // Called whenever the canvas gets updated.\n",
       "    this.send_message(\"ack\", {});\n",
       "}\n",
       "\n",
       "// A function to construct a web socket function for onmessage handling.\n",
       "// Called in the figure constructor.\n",
       "mpl.figure.prototype._make_on_message_function = function(fig) {\n",
       "    return function socket_on_message(evt) {\n",
       "        if (evt.data instanceof Blob) {\n",
       "            /* FIXME: We get \"Resource interpreted as Image but\n",
       "             * transferred with MIME type text/plain:\" errors on\n",
       "             * Chrome.  But how to set the MIME type?  It doesn't seem\n",
       "             * to be part of the websocket stream */\n",
       "            evt.data.type = \"image/png\";\n",
       "\n",
       "            /* Free the memory for the previous frames */\n",
       "            if (fig.imageObj.src) {\n",
       "                (window.URL || window.webkitURL).revokeObjectURL(\n",
       "                    fig.imageObj.src);\n",
       "            }\n",
       "\n",
       "            fig.imageObj.src = (window.URL || window.webkitURL).createObjectURL(\n",
       "                evt.data);\n",
       "            fig.updated_canvas_event();\n",
       "            fig.waiting = false;\n",
       "            return;\n",
       "        }\n",
       "        else if (typeof evt.data === 'string' && evt.data.slice(0, 21) == \"data:image/png;base64\") {\n",
       "            fig.imageObj.src = evt.data;\n",
       "            fig.updated_canvas_event();\n",
       "            fig.waiting = false;\n",
       "            return;\n",
       "        }\n",
       "\n",
       "        var msg = JSON.parse(evt.data);\n",
       "        var msg_type = msg['type'];\n",
       "\n",
       "        // Call the  \"handle_{type}\" callback, which takes\n",
       "        // the figure and JSON message as its only arguments.\n",
       "        try {\n",
       "            var callback = fig[\"handle_\" + msg_type];\n",
       "        } catch (e) {\n",
       "            console.log(\"No handler for the '\" + msg_type + \"' message type: \", msg);\n",
       "            return;\n",
       "        }\n",
       "\n",
       "        if (callback) {\n",
       "            try {\n",
       "                // console.log(\"Handling '\" + msg_type + \"' message: \", msg);\n",
       "                callback(fig, msg);\n",
       "            } catch (e) {\n",
       "                console.log(\"Exception inside the 'handler_\" + msg_type + \"' callback:\", e, e.stack, msg);\n",
       "            }\n",
       "        }\n",
       "    };\n",
       "}\n",
       "\n",
       "// from http://stackoverflow.com/questions/1114465/getting-mouse-location-in-canvas\n",
       "mpl.findpos = function(e) {\n",
       "    //this section is from http://www.quirksmode.org/js/events_properties.html\n",
       "    var targ;\n",
       "    if (!e)\n",
       "        e = window.event;\n",
       "    if (e.target)\n",
       "        targ = e.target;\n",
       "    else if (e.srcElement)\n",
       "        targ = e.srcElement;\n",
       "    if (targ.nodeType == 3) // defeat Safari bug\n",
       "        targ = targ.parentNode;\n",
       "\n",
       "    // jQuery normalizes the pageX and pageY\n",
       "    // pageX,Y are the mouse positions relative to the document\n",
       "    // offset() returns the position of the element relative to the document\n",
       "    var x = e.pageX - $(targ).offset().left;\n",
       "    var y = e.pageY - $(targ).offset().top;\n",
       "\n",
       "    return {\"x\": x, \"y\": y};\n",
       "};\n",
       "\n",
       "/*\n",
       " * return a copy of an object with only non-object keys\n",
       " * we need this to avoid circular references\n",
       " * http://stackoverflow.com/a/24161582/3208463\n",
       " */\n",
       "function simpleKeys (original) {\n",
       "  return Object.keys(original).reduce(function (obj, key) {\n",
       "    if (typeof original[key] !== 'object')\n",
       "        obj[key] = original[key]\n",
       "    return obj;\n",
       "  }, {});\n",
       "}\n",
       "\n",
       "mpl.figure.prototype.mouse_event = function(event, name) {\n",
       "    var canvas_pos = mpl.findpos(event)\n",
       "\n",
       "    if (name === 'button_press')\n",
       "    {\n",
       "        this.canvas.focus();\n",
       "        this.canvas_div.focus();\n",
       "    }\n",
       "\n",
       "    var x = canvas_pos.x * mpl.ratio;\n",
       "    var y = canvas_pos.y * mpl.ratio;\n",
       "\n",
       "    this.send_message(name, {x: x, y: y, button: event.button,\n",
       "                             step: event.step,\n",
       "                             guiEvent: simpleKeys(event)});\n",
       "\n",
       "    /* This prevents the web browser from automatically changing to\n",
       "     * the text insertion cursor when the button is pressed.  We want\n",
       "     * to control all of the cursor setting manually through the\n",
       "     * 'cursor' event from matplotlib */\n",
       "    event.preventDefault();\n",
       "    return false;\n",
       "}\n",
       "\n",
       "mpl.figure.prototype._key_event_extra = function(event, name) {\n",
       "    // Handle any extra behaviour associated with a key event\n",
       "}\n",
       "\n",
       "mpl.figure.prototype.key_event = function(event, name) {\n",
       "\n",
       "    // Prevent repeat events\n",
       "    if (name == 'key_press')\n",
       "    {\n",
       "        if (event.which === this._key)\n",
       "            return;\n",
       "        else\n",
       "            this._key = event.which;\n",
       "    }\n",
       "    if (name == 'key_release')\n",
       "        this._key = null;\n",
       "\n",
       "    var value = '';\n",
       "    if (event.ctrlKey && event.which != 17)\n",
       "        value += \"ctrl+\";\n",
       "    if (event.altKey && event.which != 18)\n",
       "        value += \"alt+\";\n",
       "    if (event.shiftKey && event.which != 16)\n",
       "        value += \"shift+\";\n",
       "\n",
       "    value += 'k';\n",
       "    value += event.which.toString();\n",
       "\n",
       "    this._key_event_extra(event, name);\n",
       "\n",
       "    this.send_message(name, {key: value,\n",
       "                             guiEvent: simpleKeys(event)});\n",
       "    return false;\n",
       "}\n",
       "\n",
       "mpl.figure.prototype.toolbar_button_onclick = function(name) {\n",
       "    if (name == 'download') {\n",
       "        this.handle_save(this, null);\n",
       "    } else {\n",
       "        this.send_message(\"toolbar_button\", {name: name});\n",
       "    }\n",
       "};\n",
       "\n",
       "mpl.figure.prototype.toolbar_button_onmouseover = function(tooltip) {\n",
       "    this.message.textContent = tooltip;\n",
       "};\n",
       "mpl.toolbar_items = [[\"Home\", \"Reset original view\", \"fa fa-home icon-home\", \"home\"], [\"Back\", \"Back to previous view\", \"fa fa-arrow-left icon-arrow-left\", \"back\"], [\"Forward\", \"Forward to next view\", \"fa fa-arrow-right icon-arrow-right\", \"forward\"], [\"\", \"\", \"\", \"\"], [\"Pan\", \"Pan axes with left mouse, zoom with right\", \"fa fa-arrows icon-move\", \"pan\"], [\"Zoom\", \"Zoom to rectangle\", \"fa fa-square-o icon-check-empty\", \"zoom\"], [\"\", \"\", \"\", \"\"], [\"Download\", \"Download plot\", \"fa fa-floppy-o icon-save\", \"download\"]];\n",
       "\n",
       "mpl.extensions = [\"eps\", \"jpeg\", \"pdf\", \"png\", \"ps\", \"raw\", \"svg\", \"tif\"];\n",
       "\n",
       "mpl.default_extension = \"png\";var comm_websocket_adapter = function(comm) {\n",
       "    // Create a \"websocket\"-like object which calls the given IPython comm\n",
       "    // object with the appropriate methods. Currently this is a non binary\n",
       "    // socket, so there is still some room for performance tuning.\n",
       "    var ws = {};\n",
       "\n",
       "    ws.close = function() {\n",
       "        comm.close()\n",
       "    };\n",
       "    ws.send = function(m) {\n",
       "        //console.log('sending', m);\n",
       "        comm.send(m);\n",
       "    };\n",
       "    // Register the callback with on_msg.\n",
       "    comm.on_msg(function(msg) {\n",
       "        //console.log('receiving', msg['content']['data'], msg);\n",
       "        // Pass the mpl event to the overridden (by mpl) onmessage function.\n",
       "        ws.onmessage(msg['content']['data'])\n",
       "    });\n",
       "    return ws;\n",
       "}\n",
       "\n",
       "mpl.mpl_figure_comm = function(comm, msg) {\n",
       "    // This is the function which gets called when the mpl process\n",
       "    // starts-up an IPython Comm through the \"matplotlib\" channel.\n",
       "\n",
       "    var id = msg.content.data.id;\n",
       "    // Get hold of the div created by the display call when the Comm\n",
       "    // socket was opened in Python.\n",
       "    var element = $(\"#\" + id);\n",
       "    var ws_proxy = comm_websocket_adapter(comm)\n",
       "\n",
       "    function ondownload(figure, format) {\n",
       "        window.open(figure.imageObj.src);\n",
       "    }\n",
       "\n",
       "    var fig = new mpl.figure(id, ws_proxy,\n",
       "                           ondownload,\n",
       "                           element.get(0));\n",
       "\n",
       "    // Call onopen now - mpl needs it, as it is assuming we've passed it a real\n",
       "    // web socket which is closed, not our websocket->open comm proxy.\n",
       "    ws_proxy.onopen();\n",
       "\n",
       "    fig.parent_element = element.get(0);\n",
       "    fig.cell_info = mpl.find_output_cell(\"<div id='\" + id + \"'></div>\");\n",
       "    if (!fig.cell_info) {\n",
       "        console.error(\"Failed to find cell for figure\", id, fig);\n",
       "        return;\n",
       "    }\n",
       "\n",
       "    var output_index = fig.cell_info[2]\n",
       "    var cell = fig.cell_info[0];\n",
       "\n",
       "};\n",
       "\n",
       "mpl.figure.prototype.handle_close = function(fig, msg) {\n",
       "    var width = fig.canvas.width/mpl.ratio\n",
       "    fig.root.unbind('remove')\n",
       "\n",
       "    // Update the output cell to use the data from the current canvas.\n",
       "    fig.push_to_output();\n",
       "    var dataURL = fig.canvas.toDataURL();\n",
       "    // Re-enable the keyboard manager in IPython - without this line, in FF,\n",
       "    // the notebook keyboard shortcuts fail.\n",
       "    IPython.keyboard_manager.enable()\n",
       "    $(fig.parent_element).html('<img src=\"' + dataURL + '\" width=\"' + width + '\">');\n",
       "    fig.close_ws(fig, msg);\n",
       "}\n",
       "\n",
       "mpl.figure.prototype.close_ws = function(fig, msg){\n",
       "    fig.send_message('closing', msg);\n",
       "    // fig.ws.close()\n",
       "}\n",
       "\n",
       "mpl.figure.prototype.push_to_output = function(remove_interactive) {\n",
       "    // Turn the data on the canvas into data in the output cell.\n",
       "    var width = this.canvas.width/mpl.ratio\n",
       "    var dataURL = this.canvas.toDataURL();\n",
       "    this.cell_info[1]['text/html'] = '<img src=\"' + dataURL + '\" width=\"' + width + '\">';\n",
       "}\n",
       "\n",
       "mpl.figure.prototype.updated_canvas_event = function() {\n",
       "    // Tell IPython that the notebook contents must change.\n",
       "    IPython.notebook.set_dirty(true);\n",
       "    this.send_message(\"ack\", {});\n",
       "    var fig = this;\n",
       "    // Wait a second, then push the new image to the DOM so\n",
       "    // that it is saved nicely (might be nice to debounce this).\n",
       "    setTimeout(function () { fig.push_to_output() }, 1000);\n",
       "}\n",
       "\n",
       "mpl.figure.prototype._init_toolbar = function() {\n",
       "    var fig = this;\n",
       "\n",
       "    var nav_element = $('<div/>')\n",
       "    nav_element.attr('style', 'width: 100%');\n",
       "    this.root.append(nav_element);\n",
       "\n",
       "    // Define a callback function for later on.\n",
       "    function toolbar_event(event) {\n",
       "        return fig.toolbar_button_onclick(event['data']);\n",
       "    }\n",
       "    function toolbar_mouse_event(event) {\n",
       "        return fig.toolbar_button_onmouseover(event['data']);\n",
       "    }\n",
       "\n",
       "    for(var toolbar_ind in mpl.toolbar_items){\n",
       "        var name = mpl.toolbar_items[toolbar_ind][0];\n",
       "        var tooltip = mpl.toolbar_items[toolbar_ind][1];\n",
       "        var image = mpl.toolbar_items[toolbar_ind][2];\n",
       "        var method_name = mpl.toolbar_items[toolbar_ind][3];\n",
       "\n",
       "        if (!name) { continue; };\n",
       "\n",
       "        var button = $('<button class=\"btn btn-default\" href=\"#\" title=\"' + name + '\"><i class=\"fa ' + image + ' fa-lg\"></i></button>');\n",
       "        button.click(method_name, toolbar_event);\n",
       "        button.mouseover(tooltip, toolbar_mouse_event);\n",
       "        nav_element.append(button);\n",
       "    }\n",
       "\n",
       "    // Add the status bar.\n",
       "    var status_bar = $('<span class=\"mpl-message\" style=\"text-align:right; float: right;\"/>');\n",
       "    nav_element.append(status_bar);\n",
       "    this.message = status_bar[0];\n",
       "\n",
       "    // Add the close button to the window.\n",
       "    var buttongrp = $('<div class=\"btn-group inline pull-right\"></div>');\n",
       "    var button = $('<button class=\"btn btn-mini btn-primary\" href=\"#\" title=\"Stop Interaction\"><i class=\"fa fa-power-off icon-remove icon-large\"></i></button>');\n",
       "    button.click(function (evt) { fig.handle_close(fig, {}); } );\n",
       "    button.mouseover('Stop Interaction', toolbar_mouse_event);\n",
       "    buttongrp.append(button);\n",
       "    var titlebar = this.root.find($('.ui-dialog-titlebar'));\n",
       "    titlebar.prepend(buttongrp);\n",
       "}\n",
       "\n",
       "mpl.figure.prototype._root_extra_style = function(el){\n",
       "    var fig = this\n",
       "    el.on(\"remove\", function(){\n",
       "\tfig.close_ws(fig, {});\n",
       "    });\n",
       "}\n",
       "\n",
       "mpl.figure.prototype._canvas_extra_style = function(el){\n",
       "    // this is important to make the div 'focusable\n",
       "    el.attr('tabindex', 0)\n",
       "    // reach out to IPython and tell the keyboard manager to turn it's self\n",
       "    // off when our div gets focus\n",
       "\n",
       "    // location in version 3\n",
       "    if (IPython.notebook.keyboard_manager) {\n",
       "        IPython.notebook.keyboard_manager.register_events(el);\n",
       "    }\n",
       "    else {\n",
       "        // location in version 2\n",
       "        IPython.keyboard_manager.register_events(el);\n",
       "    }\n",
       "\n",
       "}\n",
       "\n",
       "mpl.figure.prototype._key_event_extra = function(event, name) {\n",
       "    var manager = IPython.notebook.keyboard_manager;\n",
       "    if (!manager)\n",
       "        manager = IPython.keyboard_manager;\n",
       "\n",
       "    // Check for shift+enter\n",
       "    if (event.shiftKey && event.which == 13) {\n",
       "        this.canvas_div.blur();\n",
       "        event.shiftKey = false;\n",
       "        // Send a \"J\" for go to next cell\n",
       "        event.which = 74;\n",
       "        event.keyCode = 74;\n",
       "        manager.command_mode();\n",
       "        manager.handle_keydown(event);\n",
       "    }\n",
       "}\n",
       "\n",
       "mpl.figure.prototype.handle_save = function(fig, msg) {\n",
       "    fig.ondownload(fig, null);\n",
       "}\n",
       "\n",
       "\n",
       "mpl.find_output_cell = function(html_output) {\n",
       "    // Return the cell and output element which can be found *uniquely* in the notebook.\n",
       "    // Note - this is a bit hacky, but it is done because the \"notebook_saving.Notebook\"\n",
       "    // IPython event is triggered only after the cells have been serialised, which for\n",
       "    // our purposes (turning an active figure into a static one), is too late.\n",
       "    var cells = IPython.notebook.get_cells();\n",
       "    var ncells = cells.length;\n",
       "    for (var i=0; i<ncells; i++) {\n",
       "        var cell = cells[i];\n",
       "        if (cell.cell_type === 'code'){\n",
       "            for (var j=0; j<cell.output_area.outputs.length; j++) {\n",
       "                var data = cell.output_area.outputs[j];\n",
       "                if (data.data) {\n",
       "                    // IPython >= 3 moved mimebundle to data attribute of output\n",
       "                    data = data.data;\n",
       "                }\n",
       "                if (data['text/html'] == html_output) {\n",
       "                    return [cell, data, j];\n",
       "                }\n",
       "            }\n",
       "        }\n",
       "    }\n",
       "}\n",
       "\n",
       "// Register the function which deals with the matplotlib target/channel.\n",
       "// The kernel may be null if the page has been refreshed.\n",
       "if (IPython.notebook.kernel != null) {\n",
       "    IPython.notebook.kernel.comm_manager.register_target('matplotlib', mpl.mpl_figure_comm);\n",
       "}\n"
      ],
      "text/plain": [
       "<IPython.core.display.Javascript object>"
      ]
     },
     "metadata": {},
     "output_type": "display_data"
    },
    {
     "data": {
      "text/html": [
       "<img src=\"data:image/png;base64,iVBORw0KGgoAAAANSUhEUgAAAoAAAAHgCAYAAAA10dzkAAAgAElEQVR4Xu2de5BVVZanVyK+EBJ88BB5FM0gWkMpFg2K0griiG2NiI9w6BhbMJxoQwsMGR21aW0TSwNpohnfIlYPGjHje0QiSrE6DAMYHmV1UyoghTYaHc1Lh3AEwSpTkZzYJ80UkoS8Z5+z91l77+9G+EeVd5291vdbN/k49+a1rqmpqUl4QAACEIAABCAAAQgkQ6AOAUwmawaFAAQgAAEIQAACGQEEkEWAAAQgAAEIQAACiRFAABMLnHEhAAEIQAACEIAAAsgOQAACEIAABCAAgcQIIICJBc64EIAABCAAAQhAAAFkByAAAQhAAAIQgEBiBBDAxAJnXAhAAAIQgAAEIIAAsgMQgAAEIAABCEAgMQIIYGKBMy4EIAABCEAAAhBAANkBCEAAAhCAAAQgkBgBBDCxwBkXAhCAAAQgAAEIIIDsAAQgAAEIQAACEEiMAAKYWOCMCwEIQAACEIAABBBAdgACEIAABCAAAQgkRgABTCxwxoUABCAAAQhAAAIIIDsAAQhAAAIQgAAEEiOAACYWOONCAAIQgAAEIAABBJAdgAAEIAABCEAAAokRQAATC5xxIQABCEAAAhCAAALIDkAAAhCAAAQgAIHECCCAiQXOuBCAAAQgAAEIQAABZAcgAAEIQAACEIBAYgQQwMQCZ1wIQAACEIAABCCAALIDEIAABCAAAQhAIDECCGBigTMuBCAAAQhAAAIQQADZAQhAAAIQgAAEIJAYAQQwscAZFwIQgAAEIAABCCCA7AAEIAABCEAAAhBIjAACmFjgjAsBCEAAAhCAAAQQQHYAAhCAAAQgAAEIJEYAAUwscMaFAAQgAAEIQAACCCA7AAEIQAACEIAABBIjgAAmFjjjQgACEIAABCAAAQSQHYAABCAAAQhAAAKJEUAAEwuccSEAAQhAAAIQgAACyA5AAAIQgAAEIACBxAgggIkFzrgQgAAEIAABCEAAAWQHIAABCEAAAhCAQGIEEMDEAmdcCEAAAhCAAAQggACyAxCAAAQgAAEIQCAxAghgYoEzLgQgAAEIQAACEEAA2QEIQAACEIAABCCQGAEEMLHAGRcCEIAABCAAAQgggOwABCAAAQhAAAIQSIwAAphY4IwLAQhAAAIQgAAEEEB2AAIQgAAEIAABCCRGAAFMLHDGhQAEIAABCEAAAgggOwABCEAAAhCAAAQSI4AAJhY440IAAhCAAAQgAAEEkB2AAAQgAAEIQAACiRFAABMLnHEhAAEIQAACEIAAAsgOQAACEIAABCAAgcQIIICJBc64EIAABCAAAQhAAAFkByAAAQhAAAIQgEBiBBDAxAJnXAhAAAIQgAAEIIAAsgMQgAAEIAABCEAgMQIIYGKBlzXuvn37ZNu2bdKtWzepq6sr67JcBwIQgAAEPBFoamqS3bt3S9++faVTp06eTuUYLQQQQC1JBNbHli1bpH///oF1TbsQgAAEINCWwObNm6Vfv36ASYwAAphY4GWNu2vXLunRo4eMkUulsxxZ1mW5DgQgAAEIeCKwV76VFfKG7Ny5U7p37+7pVI7RQgAB1JJERX08/vjjMnfuXPn000/lzDPPlEcffVRGjRrVYTdffvll9gNjrFwunesQwA6B8QQIQAACygjsbfpWlspiMX+hr6+vV9Yd7bgmgAC6Jqz4+i+++KJcd911Mn/+fDn77LPloYcekpdfflk+/PBD6dWr12E7RwAVB0trEIAABGoggADWACnipyCAEYfb0WhG+kaOHCmPPfZY9lTzix3mc33Tp0+Xu+66CwHsCCD/HgIQgEDABBDAgMMroXUEsASIIV7im2++kS5dusgrr7wikyZNah1hypQp2edBFi9efMBYjY2NYv5peZg7gEYWeQs4xPTpGQIQgIAIApj2FiCAieZvvsLllFNOkVWrVsno0aNbKdxxxx2ybNkyeeeddw4g09DQILNmzTqIFgKY6AIxNgQgEDwBBDD4CAsNgAAWwhducV4B5A5guFnTOQQgAIH2CCCAae8FApho/nnfAm6LiV8CSXRxGBsCEIiGAAIYTZRWgyCAVtjiKDK/BGK+8sV89Yt5mF8CGTBggEybNo1fAokjYqaAAAQgcEgCCGDay4EAJpy/+RoY80sfTz31VCaC5mtgXnrpJdm4caP07t37sGS4A5jw4jA6BCAQBQEEMIoYrYdAAK3RxVFovgKm5Yughw8fLo888kj2nYAdPRDAjgjx7yEAAQjoJoAA6s7HdXcIoGvCkV4fAYw0WMaCAASSIYAAJhN1u4MigGnnbz09AmiNjkIIQAACKggggCpiqKwJBLAy9GEfjACGnR/dQwACEEAA094BBDDt/K2nRwCt0VEIAQhAQAUBBFBFDJU1gQBWhj7sgxHAsPOjewhAAAIIYNo7gACmnb/19AigNToKIQABCKgggACqiKGyJhDAytCHfTACGHZ+dA8BCEAAAUx7BxDAtPO3nh4BtEZHIQQgAAEVBBBAFTFU1gQCWBn6sA9GAMPOj+4hAAEIIIBp7wACmHb+1tMjgNboKIQABCCgggACqCKGyppAACtDH/bBCGDY+dE9BCAAAQQw7R1AANPO33p6BNAaHYUQgAAEVBBAAFXEUFkTCGBl6MM+GAEMOz+6hwAEIIAApr0DCGDa+VtPjwBao6OwBAJHLj0591V+deqS3DXfNe3LXfN/vu6cu+auv/2r3DWmoPv/+o1VHUUi/9ZwrmoMAxpWOe8PAXSOWPUBCKDqePQ2hwDqzSaFzhDA5pQRQPttRwBFEED7/YmhEgGMIcUKZkAAK4DOka0EEEAEsOjLAQFEAIvuUOj1CGDoCVbUPwJYEXiOzQgggAhg0ZcCAogAFt2h0OsRwNATrKh/BLAi8ByLAO63A7wFbP+CQAARQPvtiaMSAYwjR+9TIIDekXPgfgS4A8gdwKIvCAQQASy6Q6HXI4ChJ1hR/whgReA5ljuA3AEs5VWAACKApSxSwBdBAAMOr8rWEcAq6XM2dwC5A1j0VYAAIoBFdyj0egQw9AQr6h8BrAg8x3IHkDuApbwKEEAEsJRFCvgiCGDA4VXZOgJYJX3O5g4gdwCLvgoQQASw6A6FXo8Ahp5gRf0jgBWB51juAHIHsJRXAQKIAJaySAFfBAEMOLwqW0cAq6TP2dwB5A5g0VcBAogAFt2h0OsRwNATrKh/BLAi8BzLHUDuAJbyKkAAEcBSFingiyCAAYdXZesIYJX0OZs7gNwBLPoqQAARwKI7FHo9Ahh6ghX1jwBWBJ5jMwK/2romKhJrv/nOap6Zg0ZZ1VFkR8BGGgc0rLI7zEPV3qZvZaksll27dkl9fb2HEzlCEwEEUFMaAfWCAAYUVoStIoDNoSKAfpcbAfTLm9PcEkAA3fKN9uoIYLTRBjEYAogAVrGoCGAV1DnTFQEE0BXZyK+LAEYesPLxEEAEsIoVRQCroM6ZrggggK7IRn5dBDDygJWPhwAigFWsKAJYBXXOdEUAAXRFNvLrIoCRB6x8PAQQAaxiRRHAKqhzpisCCKArspFfFwGMPGDl4yGACGAVK4oAVkGdM10RQABdkY38ughg5AErHw8BRACrWFEEsArqnOmKAALoimzk10UAIw9Y+XgIIAJYxYoigFVQ50xXBBBAV2Qjvy4CGHnAysdDABHAKlYUAayCOme6IoAAuiIb+XURwMgDVj4eAogAVrGiCGAV1DnTFQEE0BXZyK+LAEYesPLxEEAEsIoVRQCroM6ZrggggK7IRn5dBDDygJWPhwAigFWsKAJYBXXOdEUAAXRFNvLrIoCRB2wxXueB/XNXff0PdblrTMGbpy+yqtNatOnbRqvWZlz9V7nrmv55fe6aGAtikzmbjPY2fStLZbHs2rVL6uvrbS5BTcAEEMCAw6uydQSwSvo6z0YA7XNBAO3Z2VYigCIIoO32xFGHAMaRo/cpEEDvyNUfiADaR4QA2rOzrUQAEUDb3YmlDgGMJUnPcyCAnoEHcBwCaB8SAmjPzrYSAUQAbXcnljoEMJYkPc+BAHoGHsBxCKB9SAigPTvbSgQQAbTdnVjqEMBYkvQ8BwLoGXgAxyGA9iEhgPbsbCsRQATQdndiqUMAY0nS8xwIoGfgARyHANqHhADas7OtRAARQNvdiaUOAYwlSc9zIICegQdwHAJoHxICaM/OthIBRABtdyeWOgQwliQ9z4EAegYewHEIoH1ICKA9O9tKBBABtN2dWOoQwFiS9DwHAugZeADHIYD2ISGA9uxsKxFABNB2d2KpQwBjSdLzHAigZ+ABHIcA2oeEANqzs61EABFA292JpQ4BjCVJz3MggJ6BB3AcAmgfEgJoz862EgFEAG13J5Y6BDCWJD3PgQB6Bh7AcQigfUgIoD0720oEEAG03Z1Y6hDAWJL0PAcC6Bl4AMftuGl07i7fufux3DUU/EBg2Irrc+P40X9am7uGgmYCsUkj/y3gtDcbAUw7f+vpEUBrdNEWIoD+o0UA/TJHAP3y5jS3BBBAt3yjvToCGG201oMhgNborAsRQGt0VoUIoBU2ipQSQACVBuO6rYaGBpk1a9YBxwwdOlQ2btxY09EIYE2YknoSAug/bgTQL3ME0C9vTnNLAAF0y1ft1Y0AvvLKK/LWW2+19ti5c2c56aSTauoZAawJU1JPQgD9x40A+mWOAPrlzWluCSCAbvmqvboRwNdee03ee+89qx4RQCtsURchgP7jRQD9MkcA/fLmNLcEEEC3fNVe3Qjg3LlzpXv37nLMMcfI6NGjZfbs2TJgwIB2e25sbBTzT8vDCGD//v1lrFwuneuOVDsnjfkjgAD6Y91yEgLolzkC6Jc3p7klgAC65av26kuWLJE9e/aI+dzf9u3bs88Dbt26VdavXy/dunU7qO/2PjNonoQAqo3Ye2MIoHfkggD6ZY4A+uXNaW4JIIBu+QZz9Z07d8rAgQNl3rx5csMNNxzUN3cAg4myskYRQP/oEUC/zBFAv7w5zS0BBNAt36CuPnLkSLnooouyt4I7evAZwI4IpffvEUD/mSOAfpkjgH55c5pbAgigW77BXN28HWw+/2fe6r3llls67BsB7BBRck9AAP1HjgD6ZY4A+uXNaW4JIIBu+aq9+u233y6XXXZZ9rbvtm3b5N57781+I3jDhg3Ss2fPDvtGADtElNwTEED/kSOAfpkjgH55c5pbAgigW75qrz558mRZvny5fP7555nwjRkzRh544AEZPHhwTT0jgDVhSupJCKD/uBFAv8wRQL+8Oc0tAQTQLd9or44ARhut9WD7xgzPXfvn85fnrjEF04//l9x1py65MXfNRT/5fe6aJ/rln+mz7/6Y+xxTcEXDf8tdd8L/WJ27JsYCG5nzyWFAwyrnx+1t+laWymLZtWuX1NfXOz+PA3QRQAB15RFMNwhgMFF5axQBbEaNAHpbuUIHIYAiCGChFQq+GAEMPsJqBkAAq+Gu+VQEEAHUvJ9te0MAEcCQ9tVFrwigC6oJXBMBTCDknCMigAhgzpWp9OkIIAJY6QIqOBwBVBBCiC0ggCGm5rZnBBABdLth5V4dAUQAy92o8K6GAIaXmYqOEUAVMahqAgFEAFUtZAfNIIAIYEj76qJXBNAF1QSuiQAmEHLOERFABDDnylT6dAQQAax0ARUcjgAqCCHEFhDAEFNz2zMCiAC63bByr44AIoDlblR4V0MAw8tMRccIoIoYVDWBACKAqhaSt4A7jIOvgekQUdRPQACjjtfdcAigO7ahXhkBRABD2l3uAHIHMKR9ddErAuiCagLXRAATCDnniAggAphzZSp9OgKIAFa6gAoORwAVhBBiCwhgiKm57RkBRADdbli5V0cAEcByNyq8qyGA4WWmomMEUEUMqppAABFAVQvZQTMIIAIY0r666BUBdEE1gWsigAmE7GHETmecZnXKNz2Py1139JpNuWt+P29I7pqPJjyVu2btN9/lrjEFMweNsqqjCAKGAL8EkvYeIIBp5289PQJojY7C/QgggM0wEEBeFlUQQACroK7nTARQTxZBdYIABhWX2mYRQARQ7XIm0BgCmEDIhxkRAUw7f+vpEUBrdBRyB/CgHeAOIC+LKggggFVQ13MmAqgni6A6QQCDiktts9wB5A6g2uVMoDEEMIGQuQOYdsgupkcAXVBN75oIIAKY3tbrmRgB1JNFFZ1wB7AK6hGciQBGEKKCERBABFDBGibbAgKYbPTZ4Ahg2vlbT48AWqOjcD8CCCACyAuiOgIIYHXsNZyMAGpIIcAeEMAAQ1PYMgKIACpcy2RaQgCTibrdQRHAtPO3nh4BtEZHIXcAD9oBfguYl0UVBBDAKqjrORMB1JNFUJ0ggEHFpbZZ7gByB1DtcibQGAKYQMiHGREBTDt/6+kRQGt0FHIHkDuAvApUEEAAVcRQWRMIYGXowz4YAQw7Py3dcweQO4BadjHFPhDAFFP/YWYEMO38radHAK3RUcgdQO4A8ipQQQABVBFDZU0ggJWhD/tgBDDs/FLs/tuLRuQe+9fPLshdY1Pw09/+pU2Z9L1ig1UdRRAwBBDAtPcAAUw7f+vpEUBrdBRWRAABrAg8x6olgACqjcZLYwigF8zxHYIAxpdp7BMhgLEnzHx5CSCAeYnF9XwEMK48vU2DAHpDzUElEUAASwLJZaIhgABGE6XVIAigFTaKEEB2IDQCCGBoidGvawIIoGvCuq+PAOrOR213CKDaaGjsEAQQQFYDAgcSQADT3ggEMO38radHAK3RUVgRAQSwIvAcq5YAAqg2Gi+NIYBeMMd3CAIYX6axT4QAxp4w8+UlgADmJRbX8xHAuPL0Ng0C6A01B5VEAAEsCSSXiYYAAhhNlFaDIIBW2ChCANmB0AgggKElRr+uCSCArgnrvj4CqDsftd0hgGqjobFDEEAAWQ0IHEgAAUx7IxDAtPO3nh4BtEZHYUUEEMCKwHOsWgIIoNpovDSGAHrBHN8hCGB8mcY+EQIYe8LMl5cAApiXWFzPRwDjytPbNAigN9Qc1A6BveNH5Oby3//h8dw1px95ZO4am4JOUmdTRs33BP7jz67NzWLfexty18RWgADGlmi+eRDAfLx49vcEEEBWoUoCCGCV9PWdjQDaZYIA2nGLpQoBjCVJz3MggJ6Bc9wBBBBAFmJ/Agig3T4ggHbcYqlCAGNJ0vMcCKBn4ByHALIDhySAANotBwJoxy2WKgQwliQ9z4EAegbOcQggO4AAlrwDCGDJQAO7HAIYWGBa2kUAtSSRZh+8BZxm7oeamjuAdvuAANpxi6UKAYwlSc9zIICegXMcdwDZAe4AlrwDCGDJQAO7HAIYWGBa2kUAtSSRZh/cAUwzd+4Alps7Alguz9CuhgCGlpiSfhFAJUEk2gYCmGjwhxibt4Dt9gEBtOMWSxUCGEuSnudAAD0D5zjeAmYHeAu45B1AAEsGGtjlEMDAAtPSLgKoJYk0++AOYJq58xZwubkjgOXyDO1qCGBoiSnpFwFUEkSibSCAiQbPW8ClBo8AloozuIshgMFFpqNhBFBHDql2gQCmmnz7c/MZQLt9QADtuMVShQDGkqTnORBAz8A57gAC1/z+09xErqvfmrvGpqCT1NmUeav5t71/yH3WgM5dctfYFPxk9XU2ZfKjn//f3HXffZa/JvchygsQQOUBOW4PAXQMONbLI4CxJhvGXAigfU4IYDM7BFAEAbR/HcVQiQDGkGIFMyCAFUDnyFYCCKD9MiCACGDL9iCA9q+jGCoRwBhSbDPD8uXLZe7cubJmzRrZvn27LFq0SCZNmtT6rKamJrn33nvl6aeflp07d8p5550nTz75pAwZMqRmGghgzah4ogMCCKA9VAQQAUQA7V8/MVUigDGl+f0sS5YskZUrV8qIESPkyiuvPEgA58yZI7Nnz5Znn31WBg0aJPfcc4+sW7dONmzYIMccc0xNRBDAmjDxJEcEEEB7sAggAogA2r9+YqpEAGNKs51Z6urqDhBAc/evb9++ctttt8ntt9+eVezatUt69+4tzzzzjEyePLkmIghgTZh4kiMCCKA9WAQQAUQA7V8/MVUigDGlWYMAfvLJJzJ48GB59913Zfjw4a0VF1xwQfa/H3744XaJNDY2ivmn5WEEsH///jJWLpfOdUdGTpHxtBFAAO0TQQARQATQ/vUTUyUCGFOaNQjgqlWrss/8bdu2TU4++eTWimuuuUbM3cIXX3yxXSINDQ0ya9asg/4dAhj5AikdDwG0DwYBRAARQPvXT0yVCGBMaToUQO4ARr4ogY2HANoHhgAigAig/esnpkoEMKY0axBA27eA216azwBGvjjKx0MA7QNCABFABND+9RNTJQIYU5o1CGDLL4GYXwAxvwhiHkbmevXqxS+BRL4LMY2HANqniQAigAig/esnpkoEMKY0v59lz549smnTpux/nXXWWTJv3jwZN26cnHDCCTJgwAAxXwPz4IMPHvA1MGvXruVrYCLchVhHQgDtk0UAEUAE0P71E1MlAhhTmt/PsnTp0kz42j6mTJmS3eVr+SLoBQsWZF8EPWbMGHniiSfk1FNPrZkGbwHXjIonOiCAANpDRQARQATQ/vUTUyUCGFOaHmdBAD3C/v6oTmeebnXortO7567r9sJvctf4LPjV1jW5j+skdblrbAr2SVPusrPvn5a7xhR02bEvd12XbV/nrlny8sLcNTYFP37m5zZl8qO/WW1Vl3oR/ym4tDcAAUw7f+vpEUBrdNaFCOAP6BDAZhYIYDMHBNDuxwoCaMctlioEMJYkPc+BAHoGLiIIIALYdusQQASwyE8iBLAIvfBrEcDwM6xkAgTQP3YEEAFEANt/3XEH0O7nEQJoxy2WKgQwliQ9z4EAegbOHcADgPMWMG8B778QCKDdzyME0I5bLFUIYCxJep4DAfQMHAFEANtZOd4C5i3gIj+JEMAi9MKvRQDDz7CSCRBA/9h5C5i3gHkLmLeAy/zJgwCWSTO8ayGA4WWmomME0H8MCCACiAAigGX+5EEAy6QZ3rUQwPAyU9ExAug/BgQQAUQAEcAyf/IggGXSDO9aCGB4manoGAH0HwMCiAAigAhgmT95EMAyaYZ3LQQwvMxUdIwA+o8BAUQAEUAEsMyfPAhgmTTDuxYCGF5mKjpGAP3HgAAigAggAljmTx4EsEya4V0LAQwvMxUdI4D+Y0AAEUAEEAEs8ycPAlgmzfCuhQCGl5mKjhFA/zEggAggAogAlvmTBwEsk2Z410IAw8tMRcexCuBHv/zT3Hw/+vOnctfEWPDZd3/MPda2747OXWMKzjqqU+66LXvz9/ezX96R+5wBf7cmd01TY2PuGp8Fb2z9Xe7jjqjLn9Gf/u1Nuc8xBSf+crVVXepFCGDaG4AApp2/9fQI4A/oEMBmFghgMwcEsJkDAmj949VbIQLoDbXKgxBAlbHobwoBRADbbikCiADuvxMIoP6f4wig/oxcdogAuqQb8bURQAQQAWz/Bc4dQO4AhvKjHwEMJSk3fSKAbrhGf1UEEAFEABHAw/2g4w6g/j8GEED9GbnsEAF0STfiayOACCACiAAigGH/kEcAw86vaPcIYFGCidYjgAggAogAIoBh/wGAAIadX9HuEcCiBBOtRwARQAQQAUQAw/4DAAEMO7+i3SOARQkmWo8AIoAIIAKIAIb9BwACGHZ+RbtHAIsSTLQeAUQAEUAEEAEM+w8ABDDs/Ip2jwAWJZhoPQKIACKACCACGPYfAAhg2PkV7R4BLEow0XoEEAFEABFABDDsPwAQwLDzK9o9AliUYKL1CCACiAAigAhg2H8AIIBh51e0ewSwKMFE64MQwHPOyJ3Ony34be6aO0/8IHcNBf4J3PXpyNyHrh+xL3eN9oJOxxyTu8Vffbwqd80+acpdc97MablrTMHxz662qku9CAFMewMQwLTzt54eAfwBHQJovUZeCxHAZtwIoNe1U30YAqg6HufNIYDOEcd5AAKIAIa22QggAhjazrruFwF0TVj39RFA3fmo7Q4BRADVLuchGkMAEcDQdtZ1vwiga8K6r48A6s5HbXcIIAKodjkRwMNGw1vAoW2uu34RQHdsQ7gyAhhCSgp7RAARQIVrediWuAPIHcDQdtZ1vwiga8K6r48A6s5HbXcIIAKodjm5A8gdwNCWs6J+EcCKwCs5FgFUEkRobSCACGBoO8sdQO4AhrazrvtFAF0T1n19BFB3Pmq7QwARQLXLyR1A7gCGtpwV9YsAVgReybEIoJIgQmsDAUQAQ9tZ7gByBzC0nXXdLwLomrDu6yOAuvNR2x0CiACqXU7uAHIHMLTlrKhfBLAi8EqORQCVBBFaGwggAhjaznIHkDuAoe2s634RQNeEdV8fAdSdj9ruEEAEUO1ycgeQO4ChLWdF/SKAFYFXciwCqCSI0NoIQQD/3/Wjc2Nddf9juWso8E+gk9TlPnT7d3/IXfNnv56Ru+a0x7/KXbPvvQ25a0xBp+E/zl335YNf565Z/pNXctdc/i8/y13z7djtuWsosCeAANqzi6ESAYwhxQpmQAArgM6RrQQQwGYUCCAviiIEEMAi9MKvRQDDz7CSCRDASrBz6PcEEEAEkBdDcQIIYHGGIV8BAQw5vQp7RwArhM/RggAigLwMihNAAIszDPkKCGDI6VXYOwJYIXyORgBb7oTyGUBeDQUIIIAF4EVQigBGEGIVIyCAVVDnzBYC3AHkDiCvhuIEEMDiDEO+AgIYcnoV9o4AVgifo7kDyB1AXgUlEEAAS4AY8CUQwIDDq7J1BLBK+pzNHUDuAPIqKE4AASzOMOQrIIAhp1dh7whghfA5mjuA3AHkVVACAQSwBIgBXwIBDDi8KltHAKukz9ncAeQOIK+C4gQQwOIMQ74CAhhyehX2jgBWCJ+juQPIHUBeBSUQQABLgBjwJRDAgMOrsnUEsEr6nM0dQO4A8iooTgABLM4w5CsggCGnV2HvCGCF8DmaO4DcAeRVUAIBBLAEiAFfAlgqwnMAACAASURBVAEMOLwqWw9BAJvOPTM3ov+wYEXumluP/yh3DQX+CdjcNbTpcp805S4746npuWtMwf+8/qHcdcOP6py7Ztz6q3LXdL12T+6a73bsyF1DgT0BBNCeXQyVCGAMKVYwAwL4A3QEsIIFtDgSAWyGhgBaLE+kJQhgpMHWOBYCWCMonnYgAQQQAQztNYEAIoCh7azrfhFA14R1Xx8B1J2PVXfLly+XuXPnypo1a2T79u2yaNEimTRpUuu1pk6dKs8+++wB154wYYK8+eabNZ+HACKANS+LkicigAigklVU0wYCqCaKShpBACvB7vbQJUuWyMqVK2XEiBFy5ZVXtiuAn332mSxcuLC1kaOPPlqOP/74mhtDABHAmpdFyRMRQARQySqqaQMBVBNFJY0ggJVg93doXV1duwK4c+dOee2116wbQQARQOvlqagQAUQAK1o9tccigGqj8dIYAugFc3WHHEoAjfwdddRR2V2/Cy+8UO6//3458cQTD9loY2OjmH9aHkYA+/fvL2Plculcd2R1Ax7mZH4LWGUslTWFACKAlS2f0oMRQKXBeGoLAfQEuqpj2hPAF154Qbp06SKDBg2Sjz/+WGbOnCldu3aV1atXyxFHHNFuqw0NDTJr1qyD/h0CKMJvAVe13fnORQARwHwbE/+zEcD4Mz7chAhg5Pm3J4BtR/7kk09k8ODB8tZbb8n48ePbJcIdwEMvCgIYxosIAUQAw9hUf10igP5YazwJAdSYSok91SKA5riePXtmbwPfeOONNZ3OZwB/wIQA1rQylT8JAUQAK19CZQ0ggMoC8dwOAugZuO/jahHALVu2yIABA7JfCpk4cWJNLSKACGBNi6LoSQggAqhoHVW0ggCqiKGyJhDAytC7O3jPnj2yadOm7ICzzjpL5s2bJ+PGjZMTTjgh+8d8lu+qq66SPn36ZJ8BvOOOO2T37t2ybt06MV8HU8sDAUQAa9kTTc9BABFATfuooRcEUEMK1fWAAFbH3tnJS5cuzYSv7WPKlCny5JNPZl8K/e6774r5Kpi+ffvKxRdfLL/4xS+kd+/eNfeEACKANS+LkicigAigklVU0wYCqCaKShpBACvBHv6hIQigDeXtt52bu2zNf300d432gmErrs/d4pHvds1dc8qDq3LXmIJ/ffGM3HV9T9iVu+Yff/xq7hpfopm7se8Lhr5wc+7Swbf9JncNBfoJIID6M3LZIQLokm7E10YAfwgXAWxmgQA2c0AAI/7BF9loCGBkgeYcBwHMCYynNxNAABHAtq8FBBAB5OdjWAQQwLDyKrtbBLBsoolcDwFEABHA9l/s3AFM5IdgBGMigBGEWGAEBLAAvJRLEUAEEAFEAFP+GRjD7AhgDCnaz4AA2rNLuhIBRAARQAQw6R+CEQyPAEYQYoEREMAC8FIuRQARQAQQAUz5Z2AMsyOAMaRoPwMCaM8u6UoEEAFEABHApH8IRjA8AhhBiAVGQAALwEu5FAFEABFABDDln4ExzI4AxpCi/QwIoD27pCsRQAQQAUQAk/4hGMHwCGAEIRYYAQEsAC/lUgQQAUQAEcCUfwbGMDsCGEOK9jMggPbskq5EABFABBABTPqHYATDI4ARhFhgBASwALyUSxFABBABRABT/hkYw+wIYAwp2s+AANqzS7oSAUQAEUAEMOkfghEMjwBGEGKBERDAAvBSLo1VAG0y/dXWNTZl3mp+8svpuc8aeO+q3DXaCzr3OyV3ixvuzl+z6bL5uc/xWfDTf/rPuY/rM+n3uWso0E8AAdSfkcsOEUCXdCO+NgL4Q7gIYBiLjgA254QAhrGvPrpEAH1Q1nsGAqg3G9WdIYAIoOoFbac5BBABDG1nXfeLALomrPv6CKDufNR2hwAigGqX8xCNIYAIYGg767pfBNA1Yd3XRwB156O2OwQQAVS7nAjgYaPhLeDQNtddvwigO7YhXBkBDCElhT0igAigwrU8bEvcAeQOYGg767pfBNA1Yd3XRwB156O2OwQQAVS7nNwB5A5gaMtZUb8IYEXglRyLACoJIrQ2EEAEMLSd5Q4gdwBD21nX/SKArgnrvj4CqDsftd0hgAig2uXkDiB3AENbzor6RQArAq/kWARQSRChtYEAIoCh7Sx3ALkDGNrOuu4XAXRNWPf1EUDd+ajtDgFEANUuJ3cAuQMY2nJW1C8CWBF4JccigEqCCK0NBBABDG1nuQPIHcDQdtZ1vwiga8K6r48A6s5HbXcIIAKodjm5A8gdwNCWs6J+EcCKwCs5FgFUEkRobSCAoSVGv588ODo3hI1/+Xjumn3SlLvmrk9H5q4xBX/X559z1/1TY/7+7v2TEbnPoUA/AQRQf0YuO0QAXdKN+NoIYMThRjoaAtgcLAIY6YJbjIUAWkCLqAQBjChMn6MggD5pc1YZBBBABLCMPYrpGghgTGnmnwUBzM+MChFBAFmD0AgggAhgaDvrul8E0DVh3ddHAHXno7Y7BFBtNDR2CAIIIALIi+NAAghg2huBAKadv/X0CKA1OgorIoAAIoAVrZ7aYxFAtdF4aQwB9II5vkMQwPgyjX0iBBABjH3H886HAOYlFtfzEcC48vQ2DQLoDTUHlUQAAUQAS1qlaC6DAEYTpdUgCKAVNooQQHYgNAIIIAIY2s667hcBdE1Y9/URQN35qO0OAVQbDY0dggACiADy4jiQAAKY9kYggGnnbz09AmiNjsKKCCCACGBFq6f2WARQbTReGkMAvWCO7xAEML5MY58IAUQAY9/xvPMhgHmJxfV8BDCuPL1NgwB6Q81BJRFAABHAklYpmssggNFEaTUIAmiFjSIEkB2oksCsT9bkPn7k0XW5a05/9ue5awbNXJ27xrbgf2/5Te7SY+uOyl1z6Sk/zV1DgX4CCKD+jFx2iAC6pBvxtRHAiMMNYDQEsDkkBDCAZVXcIgKoOBwPrSGAHiDHeAQCGGOq4cyEACKA4Wyr3k4RQL3Z+OgMAfRBOcIzEMAIQw1oJAQQAQxoXdW2igCqjcZLYwigF8zxHYIAxpdpSBMhgAhgSPuqtVcEUGsyfvpCAP1wju4UBDC6SIMaCAFEAINaWKXNIoBKg/HUFgLoCXRsxyCAsSUa1jwIIAIY1sbq7BYB1JmLr64QQF+kIzsHAYws0MDGQQARwMBWVmW7CKDKWLw1hQB6Qx3XQQhgXHmGNg0CiACGtrMa+0UANabirycE0B/rqE5CAKOKM7hhEEAEMLilVdgwAqgwFI8tIYAeYcd0FAIYU5rhzYIAIoDhba2+jhFAfZn47AgB9Ek7orMQwIjCDHAUBBABDHBt1bWMAKqLxGtDCKBX3PEchgDGk2WIkyCACGCIe6utZwRQWyJ++0EA/fKO5jQEMJoogxzk19vey933n/zjDblrhk7/KHfNvt27c9d8tGBk7hpTsOlnT+Wue/iLf5e75tfD6nPXUKCfAAKoPyOXHSKALulGfG0EMOJwAxgNAWwOCQEMYFkVt4gAKg7HQ2sIoAfIMR6BAMaYajgzIYAIYDjbqrdTBFBvNj46QwB9UPZ8xuzZs+XVV1+VjRs3yrHHHivnnnuuzJkzR4YOHdrayddffy233XabvPDCC9LY2CgTJkyQJ554Qnr37l1TtwhgTZh4kiMCCCAC6Gi1krosAphU3AcNiwBGmP8ll1wikydPlpEjR8revXtl5syZsn79etmwYYMcd9xx2cQ33XSTvP766/LMM89I9+7dZdq0adKpUydZuXJlTUQQwJow8SRHBBBABNDRaiV1WQQwqbgRwBTj3rFjh/Tq1UuWLVsm559/vuzatUt69uwpzz33nFx99dUZEnO38PTTT5fVq1fLOeec0yEmBLBDRDzBIQEEEAF0uF7JXBoBTCbqdgflDmAC+W/atEmGDBki69atk2HDhsnbb78t48ePly+++EJ69OjRSmDgwIFy6623yowZMw6iYt4mNv+0PIwA9u/fX8bK5dK57sgEKDKiJgIIIAKoaR9D7QUBDDW5cvpGAMvhqPYq+/btk4kTJ8rOnTtlxYoVWZ/mzt/1119/gNCZ/3/UqFEybty47POCbR8NDQ0ya9asg/5/BFBt9FE3hgAigFEvuKfhEEBPoJUegwAqDaastsxn/ZYsWZLJX79+/awFkDuAZSXCdcoggAAigGXsUerXQADT3gAEMOL8zS92LF68WJYvXy6DBg1qndTmLeC2mPgMYMSLE8BoCCACGMCaqm8RAVQfkdMGEUCneKu5eFNTk0yfPl0WLVokS5cuzT7/t/+j5ZdAnn/+ebnqqquyf/Xhhx/Kaaedxi+BVBMZp+YkgAAigDlXhqe3QwABTHstEMAI87/55puzz/mZu3/7f/ef+boX872A5mHeGn7jjTeyr4Gpr6/PhNE8Vq1aVRMR7gDWhIknOSKAACKAjlYrqcsigEnFfdCwCGCE+dfV1bU71cKFC2Xq1KnZv2v5ImhzF3D/L4Lu06dPTUQQwJow8SRHBBBABNDRaiV1WQQwqbgRwLTjLm96BLA8llwpP4E3tv4ud9GIB6flrun9aG13xHNfuE3BvH9dbXWJ0448OnfdyDV/kbum58QPc9dQoJ8AAqg/I5cdcgfQJd2Ir40ARhxuAKMhgM0hIYABLKviFhFAxeF4aA0B9AA5xiMQwBhTDWcmBBABDGdb9XaKAOrNxkdnCKAPyhGegQBGGGpAIyGACGBA66q2VQRQbTReGkMAvWCO7xAEML5MQ5oIAUQAQ9pXrb0igFqT8dMXAuiHc3SnIIDRRRrUQAggAhjUwiptFgFUGoynthBAT6BjOwYBjC3RsOZBABHAsDZWZ7cIoM5cfHWFAPoiHdk5CGBkgQY2DgKIAAa2sirbRQBVxuKtKQTQG+q4DkIA48oztGkQQAQwtJ3V2C8CqDEVfz0hgP5YR3USAhhVnMENgwAigMEtrcKGEUCFoXhsCQH0CDumoxDAmNIMbxYEEAEMb2v1dYwA6svEZ0cIoE/aEZ2FAEYUZoCjIIAIYIBrq65lBFBdJF4bQgC94o7nMAQwnixDnAQBRABD3FttPSOA2hLx2w8C6Jd3NKchgNFEGeQgCCACGOTiKmsaAVQWiOd2EEDPwGM5DgGMJckw57ARwNf/0DX3sPNHjsxds/m//PvcNe/NeCx3jSnYJ02564Y9My13zY/+ZnXuGgr0E0AA9WfkskME0CXdiK+NAEYcbgCjIYDNISGAASyr4hYRQMXheGgNAfQAOcYjEMAYUw1nJgQQAQxnW/V2igDqzcZHZwigD8oRnoEARhhqQCMhgAhgQOuqtlUEUG00XhpDAL1gju8QBDC+TEOaCAFEAEPaV629IoBak/HTFwLoh3N0pyCA0UUa1EAIIAIY1MIqbRYBVBqMp7YQQE+gYzsGAYwt0bDmQQARwLA2Vme3CKDOXHx1hQD6Ih3ZOQhgZIEGNg4CiAAGtrIq20UAVcbirSkE0BvquA5CAOPKM7RpEEAEMLSd1dgvAqgxFX89IYD+WEd1EgIYVZzBDYMAIoDBLa3ChhFAhaF4bAkB9Ag7pqMQwJjSDG8WBBABDG9r9XWMAOrLxGdHCKBP2hGdhQBGFGaAoyCACGCAa6uuZQRQXSReG0IAveKO5zAEMJ4sQ5wEAUQAQ9xbbT0jgNoS8dsPAuiXdzSnIYDRRBnkIH+cNCp33z+953e5a/6+z29z1+yV73LXXHHhX+SuMQXffbjJqo4iCBgCCGDae4AApp2/9fQIoDU6CksggAA2Q0QAS1imhC+BACYcvogggGnnbz09AmiNjsISCCCACGAJa5T8JRDAtFcAAUw7f+vpEUBrdBSWQAABRABLWKPkL4EApr0CCGDa+VtPjwBao6OwBAIIIAJYwholfwkEMO0VQADTzt96egTQGh2FJRBAABHAEtYo+UsggGmvAAKYdv7W0yOA1ugoLIEAAogAlrBGyV8CAUx7BRDAtPO3nh4BtEZHYQkEEEAEsIQ1Sv4SCGDaK4AApp2/9fQIoDU6CksggAAigCWsUfKXQADTXgEEMO38radHAK3RUVgCAQQQASxhjZK/BAKY9goggGnnbz09AmiNjsISCCCACGAJa5T8JRDAtFcAAUw7f+vpEUBrdBSWQAABRABLWKPkL4EApr0CCGDa+VtPjwBao6OwBAIIIAJYwholfwkEMO0VQADTzt96egTQGh2FEIAABFQQQABVxFBZEwhgZejDPhgBDDs/uocABCCAAKa9Awhg2vlbT48AWqOjEAIQgIAKAgigihgqawIBrAx92AcjgGHnR/cQgAAEEMC0dwABTDt/6+kRQGt0FEIAAhBQQQABVBFDZU0ggJWhD/tgBDDs/OgeAhCAAAKY9g4ggGnnbz09AmiNjkIIQAACKggggCpiqKwJBLAy9GEfjACGnR/dQwACEEAA094BBDDt/K2nRwCt0VEIAQhAQAUBBFBFDJU1gQBWhj7sgxHAsPOjewhAAAIIYNo7gACmnb/19AigNToKIQABCKgggACqiKGyJhDAytCHfTACGHZ+dA8BCEAAAUx7BxDAtPO3nh4BtEZHIQQgAAEVBBBAFTFU1gQCWBn6sA9GAMPOj+4hAAEIIIBp7wACmHb+1tMjgNboKIQABCCgggACqCKGyppAACtDH/bBCGDY+dE9BCAAAQQw7R1AACPMf/bs2fLqq6/Kxo0b5dhjj5Vzzz1X5syZI0OHDm2dduzYsbJs2bIDpr/xxhtl/vz5NRFBAGvCxJMgAAEIqCWAAKqNxktjCKAXzH4PueSSS2Ty5MkycuRI2bt3r8ycOVPWr18vGzZskOOOOy5rxgjgqaeeKvfdd19rc126dJH6+vqamkUAa8LEkyAAAQioJYAAqo3GS2MIoBfM1R6yY8cO6dWrV3bH7/zzz28VwOHDh8tDDz1k1RwCaIWNIghAAAJqCCCAaqKopBEEsBLsfg/dtGmTDBkyRNatWyfDhg1rFcAPPvhAmpqapE+fPnLZZZfJPffcI+YuYHuPxsZGMf+0PIwA9u/fX8bK5dK57ki/A3EaBCAAAQgUJoAAFkYY9AUQwKDj67j5ffv2ycSJE2Xnzp2yYsWK1oIFCxbIwIEDpW/fvrJ27Vq58847ZdSoUdlnB9t7NDQ0yKxZsw76VwhgxxnwDAhAAAIaCSCAGlPx1xMC6I91JSfddNNNsmTJkkz++vXrd8ge3n77bRk/fryYu4WDBw8+6HncAawkPg6FAAQg4IwAAugMbRAXRgCDiMmuyWnTpsnixYtl+fLlMmjQoMNe5KuvvpKuXbvKm2++KRMmTOjwQD4D2CEingABCEBANQEEUHU8zptDAJ0j9n+A+Vzf9OnTZdGiRbJ06dLs838dPVauXCljxoyR999/X84444yOni4IYIeIeAIEIAAB1QQQQNXxOG8OAXSO2P8BN998szz33HPZ3b/9v/uve/fu2fcCfvzxx9m/v/TSS+XEE0/MPgM4Y8aM7C3itt8NeKjuEUD/uXIiBCAAgTIJIIBl0gzvWghgeJl12HFdXV27z1m4cKFMnTpVNm/eLNdee2323YDmrV/z27xXXHGF3H333XwPYId0eQIEIACBOAgggHHkaDsFAmhLLvE67gAmvgCMDwEIBE8AAQw+wkIDIICF8KVbjACmmz2TQwACcRBAAOPI0XYKBNCWXOJ1CGDiC8D4EIBA8AQQwOAjLDQAAlgIX7rFCGC62TM5BCAQBwEEMI4cbadAAG3JJV6HACa+AIwPAQgETwABDD7CQgMggIXwpVuMAKabPZNDAAJxEEAA48jRdgoE0JZc4nUIYOILwPgQgEDwBBDA4CMsNAACWAhfusUIYLrZMzkEIBAHAQQwjhxtp0AAbcklXocAJr4AjA8BCARPAAEMPsJCAyCAhfClW4wApps9k0MAAnEQQADjyNF2CgTQllzidQhg4gvA+BCAQPAEEMDgIyw0AAJYCF+6xQhgutkzOQQgEAcBBDCOHG2nQABtySVehwAmvgCMDwEIBE8AAQw+wkIDIICF8KVbjACmmz2TQwACcRBAAOPI0XYKBNCWXOJ1CGDiC8D4EIBA8AQQwOAjLDQAAlgIX7rFCGC62TM5BCAQBwEEMI4cbadAAG3JJV6HACa+AIwPAQgETwABDD7CQgMggIXwpVuMAKabPZNDAAJxEEAA48jRdgoE0JZc4nUIYOILwPgQgEDwBBDA4CMsNAACWAhfusUIYLrZMzkEIBAHAQQwjhxtp0AAbcklXocAJr4AjA8BCARPAAEMPsJCAyCAhfClW4wApps9k0MAAnEQQADjyNF2CgTQllzidQhg4gvA+BCAQPAEEMDgIyw0AAJYCF+6xQhgutkzOQQgEAcBBDCOHG2nQABtySVehwAmvgCMDwEIBE8AAQw+wkIDIICF8KVbjACmmz2TQwACcRBAAOPI0XYKBNCWXOJ1u3btkh49esgYuVQ6y5GJ02B8CEAAAuER2Cvfygp5Q3bu3Cndu3cPbwA6LkQAASyEL93iLVu2SP/+/dMFwOQQgAAEIiGwefNm6devXyTTMEatBBDAWknxvAMI7Nu3T7Zt2ybdunWTurq6A/6deXvYyKH5oVJfX58sOTg0Rw8HOOz/Q4B90LMPTU1Nsnv3bunbt6906tQp2Z/VqQ6OAKaavMO5Wz4faN4mTl0AzdsqcPgye3sJDnBo+QsB+9D8FyM4OPyDiEt3SAAB7BART8hLgB9sP/wNnx/w/EHX8vrhdcHrou2dUH4+5P3TheeXSQABLJMm12p9y48fbIgP4nPgDwQEEAFEAPlDUhMBBFBTGpH00tjYKLNnz5a//uu/lqOPPjqSqfKPAYdmZnCAw/6vHvaBfcj/05QKFwQQQBdUuSYEIAABCEAAAhBQTAABVBwOrUEAAhCAAAQgAAEXBBBAF1S5JgQgAAEIQAACEFBMAAFUHA6tQQACEIAABCAAARcEEEAXVLkmBCAAAQhAAAIQUEwAAVQcToitPf744zJ37lz59NNP5cwzz5RHH31URo0aFeIoVj03NDTIrFmzDqgdOnSobNy40ep6IRUtX748y37NmjWyfft2WbRokUyaNKl1BPNfHbj33nvl6aefzv7bo+edd548+eSTMmTIkJDG7LDXjjhMnTpVnn322QOuM2HCBHnzzTc7vHYoTzDfAvDqq69me3/sscfKueeeK3PmzBHzWmh5fP3113LbbbfJCy+8kP2muGHwxBNPSO/evUMZs8M+a+EwduxYWbZs2QHXuvHGG2X+/PkdXp8nQKAIAQSwCD1qDyDw4osvynXXXZf94Dr77LPloYcekpdfflk+/PBD6dWrVxK0jAC+8sor8tZbb7XO27lzZznppJOin3/JkiWycuVKGTFihFx55ZUHCaARAPMHopGfQYMGyT333CPr1q2TDRs2yDHHHBMNn444GAH87LPPZOHCha0zm69LOv7446NhcMkll8jkyZNl5MiRsnfvXpk5c6asX78+y/q4447L5rzpppvk9ddfl2eeeSb7L2JMmzYt+8+RmR2K5VELByOAp556qtx3332tY3fp0iXp/4pSLPlrnwMB1J5QQP0Z6TM/8B977LGsa/PfCzb/TeDp06fLXXfdFdAk9q0aAXzttdfkvffes79IBJXmvw+9/x1Ac/fP/PdGzR2f22+/PZvQ/KfhzN0eIwBGFmJ8tOVgZjQCaO6Amj1J5bFjx47sL4HmTtf555+fZd+zZ0957rnn5Oqrr84wmLuFp59+uqxevVrOOeecKNG05WCGNAI4fPjw7C/MPCDgkwAC6JN2xGd98803Yv7Wau5+7f+235QpU7I/7BYvXhzx9D+MZgTQvA1q7miYu1qjR4/O7noNGDAgiflbhmwrPp988okMHjxY3n333ewPu5bHBRdckP3vhx9+OEo+hxJAI39HHXVUdtfvwgsvlPvvv19OPPHEKBmYoTZt2pS91W/u+A4bNkzefvttGT9+vHzxxRfSo0eP1rkHDhwot956q8yYMSNKFm05tAjgBx98IOYvSX369JHLLrssuztufp7ygIBLAgigS7oJXXvbtm1yyimnyKpVqzLpaXnccccd2d/633nnnSRomLf/9uzZk33WyXwOznwecOvWrdnbX926dUuCgRmyrfiYvTCf+TN7cvLJJ7dyuOaaa7Lnmo8PxPhoTwDNZ97MH+7mbfCPP/44e3u0a9eu2Z2vI444IjoM5p2AiRMnZn8RXLFiRTafufN3/fXXZ5/92/9hPi88bty47POCsT3a42BmXLBggRjxNXfI165dK3feeWf2uWnzGUoeEHBJAAF0STehayOA7Ydt/tAzP9znzZsnN9xwQzIbgQA2R92eALZdgpa7o+Zzo+auWGwP81k/8xcjI3/9+vVLVgDb49Be1i13R83dQnPXnAcEXBFAAF2RTey6vAV86MDN5yIvuuii7K3gVB68BVy7AJpnms/DmbeBzW9/xvQwv9hhPv5hfjPa3PFseaT2FvChOLSX9VdffZXdETa/FW5+M5oHBFwRQABdkU3wuuaXQMxbF+arX8zDvOVhPvtmfvil8ksgbWM3bwcbBuazgbfccksyW3GoXwIxvwBifhHEPL788svsFwNS+yWQtkuwZcuWbEfM5wLNW6UxPMzn2cwvf5lfBFq6dOlBX/XT8ksgzz//vFx11VXZyObbAk477bSofgmkIw7tZW1+C3rMmDHy/vvvyxlnnBHDOjCDUgIIoNJgQmzLfI7L/NLHU089lYmg+a22l156Kfvtvpi+2+tw2RjBMR/iNm/7mrfFzffemd8INl9/Ye7yxPwwsmvetjKPs846K3vb23ye64QTTsgEx3yu68EHHzzga2DMZ55i+xqYw3EwLMznQo30mA/8m88Ams/J7t69O/sFCfN1MDE8br755uxzfubu3/7f/Wd+Ocp8L6B5mLdE33jjjewvAPX19Zkwmof5vGgsj444mPwNp0svvTT7JSDzejC/AGPeKm/73YCxMGEObYiH+QAAAuNJREFUPQQQQD1ZRNGJ+QqYli+CNr/d+cgjj2TfCZjKw3ydiXm76/PPP8+Ez/xN/oEHHkjiszzmTo8RvrYP85cC84d8yxdBmw+9m89GGjbmi3/Nd6DF9DgcB/PF1+a35M1vQxsG5oP/F198sfziF7+I6i9J5g5wew/z3Yfma3DMo+WLoM1dwP2/CNqIcSyPjjhs3rxZrr322uyXxMxbv+Zrs6644gq5++67+R7AWJZA8RwIoOJwaA0CEIAABCAAAQi4IIAAuqDKNSEAAQhAAAIQgIBiAgig4nBoDQIQgAAEIAABCLgggAC6oMo1IQABCEAAAhCAgGICCKDicGgNAhCAAAQgAAEIuCCAALqgyjUhAAEIQAACEICAYgIIoOJwaA0CEIAABCAAAQi4IIAAuqDKNSEAAQhAAAIQgIBiAgig4nBoDQIQgAAEIAABCLgggAC6oMo1IQABCEAAAhCAgGICCKDicGgNAhCAAAQgAAEIuCCAALqgyjUhAAEIQAACEICAYgIIoOJwaA0CEIAABCAAAQi4IIAAuqDKNSEAAQhAAAIQgIBiAgig4nBoDQIQgAAEIAABCLgggAC6oMo1IQABCEAAAhCAgGICCKDicGgNAhCAAAQgAAEIuCCAALqgyjUhAAEIQAACEICAYgIIoOJwaA0CEIAABCAAAQi4IIAAuqDKNSEAAQhAAAIQgIBiAgig4nBoDQIQgAAEIAABCLgggAC6oMo1IQABCEAAAhCAgGICCKDicGgNAhCAAAQgAAEIuCCAALqgyjUhAAEIQAACEICAYgIIoOJwaA0CEIAABCAAAQi4IIAAuqDKNSEAAQhAAAIQgIBiAgig4nBoDQIQgAAEIAABCLgggAC6oMo1IQABCEAAAhCAgGICCKDicGgNAhCAAAQgAAEIuCCAALqgyjUhAAEIQAACEICAYgIIoOJwaA0CEIAABCAAAQi4IIAAuqDKNSEAAQhAAAIQgIBiAv8fzB7S9RfNEYQAAAAASUVORK5CYII=\" width=\"640\">"
      ],
      "text/plain": [
       "<IPython.core.display.HTML object>"
      ]
     },
     "metadata": {},
     "output_type": "display_data"
    },
    {
     "data": {
      "text/plain": [
       "<matplotlib.image.AxesImage at 0x7f4dca79f810>"
      ]
     },
     "execution_count": 26,
     "metadata": {},
     "output_type": "execute_result"
    }
   ],
   "source": [
    "%matplotlib notebook\n",
    "\n",
    "plt.imshow(inputs_back[0][0])"
   ]
  },
  {
   "cell_type": "code",
   "execution_count": 9,
   "metadata": {},
   "outputs": [
    {
     "data": {
      "text/plain": [
       "tensor(7)"
      ]
     },
     "execution_count": 9,
     "metadata": {},
     "output_type": "execute_result"
    }
   ],
   "source": [
    "second_labels[0]"
   ]
  },
  {
   "cell_type": "code",
   "execution_count": 11,
   "metadata": {},
   "outputs": [
    {
     "data": {
      "text/plain": [
       "tensor(9)"
      ]
     },
     "execution_count": 11,
     "metadata": {},
     "output_type": "execute_result"
    }
   ],
   "source": [
    "labels[0]"
   ]
  },
  {
   "cell_type": "code",
   "execution_count": 7,
   "metadata": {},
   "outputs": [],
   "source": []
  },
  {
   "cell_type": "code",
   "execution_count": 8,
   "metadata": {},
   "outputs": [],
   "source": []
  },
  {
   "cell_type": "code",
   "execution_count": 9,
   "metadata": {},
   "outputs": [],
   "source": []
  },
  {
   "cell_type": "code",
   "execution_count": 10,
   "metadata": {},
   "outputs": [
    {
     "data": {
      "text/plain": [
       "<All keys matched successfully>"
      ]
     },
     "execution_count": 10,
     "metadata": {},
     "output_type": "execute_result"
    }
   ],
   "source": []
  },
  {
   "cell_type": "code",
   "execution_count": 11,
   "metadata": {},
   "outputs": [
    {
     "data": {
      "text/plain": [
       "Net(\n",
       "  (conv1): Conv2d(1, 20, kernel_size=(5, 5), stride=(1, 1))\n",
       "  (conv2): Conv2d(20, 50, kernel_size=(5, 5), stride=(1, 1))\n",
       "  (fc1): Linear(in_features=800, out_features=500, bias=True)\n",
       "  (fc2): Linear(in_features=500, out_features=10, bias=True)\n",
       ")"
      ]
     },
     "execution_count": 11,
     "metadata": {},
     "output_type": "execute_result"
    }
   ],
   "source": []
  },
  {
   "cell_type": "code",
   "execution_count": 12,
   "metadata": {},
   "outputs": [
    {
     "ename": "NameError",
     "evalue": "name 'inputs' is not defined",
     "output_type": "error",
     "traceback": [
      "\u001b[0;31m---------------------------------------------------------------------------\u001b[0m",
      "\u001b[0;31mNameError\u001b[0m                                 Traceback (most recent call last)",
      "\u001b[0;32m<ipython-input-12-73d38c9f1b43>\u001b[0m in \u001b[0;36m<module>\u001b[0;34m\u001b[0m\n\u001b[0;32m----> 1\u001b[0;31m \u001b[0mmodel\u001b[0m\u001b[0;34m(\u001b[0m\u001b[0minputs\u001b[0m\u001b[0;34m)\u001b[0m\u001b[0;34m[\u001b[0m\u001b[0;36m0\u001b[0m\u001b[0;34m]\u001b[0m\u001b[0;34m\u001b[0m\u001b[0;34m\u001b[0m\u001b[0m\n\u001b[0m",
      "\u001b[0;31mNameError\u001b[0m: name 'inputs' is not defined"
     ]
    }
   ],
   "source": [
    "model(inputs)[0]"
   ]
  },
  {
   "cell_type": "code",
   "execution_count": 13,
   "metadata": {},
   "outputs": [
    {
     "ename": "NameError",
     "evalue": "name 'inputs' is not defined",
     "output_type": "error",
     "traceback": [
      "\u001b[0;31m---------------------------------------------------------------------------\u001b[0m",
      "\u001b[0;31mNameError\u001b[0m                                 Traceback (most recent call last)",
      "\u001b[0;32m<ipython-input-13-8537c8df130f>\u001b[0m in \u001b[0;36m<module>\u001b[0;34m\u001b[0m\n\u001b[0;32m----> 1\u001b[0;31m \u001b[0mtorch\u001b[0m\u001b[0;34m.\u001b[0m\u001b[0mmax\u001b[0m\u001b[0;34m(\u001b[0m\u001b[0mmodel\u001b[0m\u001b[0;34m(\u001b[0m\u001b[0minputs\u001b[0m\u001b[0;34m)\u001b[0m\u001b[0;34m[\u001b[0m\u001b[0;36m0\u001b[0m\u001b[0;34m]\u001b[0m\u001b[0;34m,\u001b[0m \u001b[0;36m1\u001b[0m\u001b[0;34m)\u001b[0m\u001b[0;34m[\u001b[0m\u001b[0;36m1\u001b[0m\u001b[0;34m]\u001b[0m\u001b[0;34m\u001b[0m\u001b[0;34m\u001b[0m\u001b[0m\n\u001b[0m",
      "\u001b[0;31mNameError\u001b[0m: name 'inputs' is not defined"
     ]
    }
   ],
   "source": [
    "torch.max(model(inputs)[0], 1)[1]"
   ]
  },
  {
   "cell_type": "code",
   "execution_count": 13,
   "metadata": {},
   "outputs": [
    {
     "ename": "NameError",
     "evalue": "name 'inputs_back' is not defined",
     "output_type": "error",
     "traceback": [
      "\u001b[0;31m---------------------------------------------------------------------------\u001b[0m",
      "\u001b[0;31mNameError\u001b[0m                                 Traceback (most recent call last)",
      "\u001b[0;32m<ipython-input-13-41cdc56f8c78>\u001b[0m in \u001b[0;36m<module>\u001b[0;34m\u001b[0m\n\u001b[0;32m----> 1\u001b[0;31m \u001b[0mtorch\u001b[0m\u001b[0;34m.\u001b[0m\u001b[0mmax\u001b[0m\u001b[0;34m(\u001b[0m\u001b[0mmodel\u001b[0m\u001b[0;34m(\u001b[0m\u001b[0minputs_back\u001b[0m\u001b[0;34m)\u001b[0m\u001b[0;34m[\u001b[0m\u001b[0;36m0\u001b[0m\u001b[0;34m]\u001b[0m\u001b[0;34m,\u001b[0m \u001b[0;36m1\u001b[0m\u001b[0;34m)\u001b[0m\u001b[0;34m[\u001b[0m\u001b[0;36m1\u001b[0m\u001b[0;34m]\u001b[0m\u001b[0;34m\u001b[0m\u001b[0;34m\u001b[0m\u001b[0m\n\u001b[0m",
      "\u001b[0;31mNameError\u001b[0m: name 'inputs_back' is not defined"
     ]
    }
   ],
   "source": [
    "torch.max(model(inputs_back)[0], 1)[1]"
   ]
  },
  {
   "cell_type": "code",
   "execution_count": null,
   "metadata": {},
   "outputs": [],
   "source": []
  },
  {
   "cell_type": "code",
   "execution_count": 122,
   "metadata": {},
   "outputs": [
    {
     "data": {
      "image/png": "[encoded data removed]",
      "text/plain": [
       "<Figure size 1440x720 with 10 Axes>"
      ]
     },
     "metadata": {
      "needs_background": "light"
     },
     "output_type": "display_data"
    }
   ],
   "source": [
    "for dat in loader:\n",
    "    ims = dat[0].view(5, 28, 28).numpy()\n",
    "    inputs, labels, second_labels = dat \n",
    "    inputs_back, labels_back = poison_pattern_mnist(inputs, labels, 8, 1.1)\n",
    "    ims_back = inputs_back.view(5, 28, 28).numpy()\n",
    "\n",
    "    labs_l = dat[1]\n",
    "    labs_r = dat[2]\n",
    "    f, axarr = plt.subplots(2, 5, figsize=(20,10))\n",
    "    true_pred = torch.max(model(inputs), 1)[1].numpy()\n",
    "    back_pred = torch.max(model(inputs_back), 1)[1].numpy()\n",
    "    for j in range(5):\n",
    "#         for i in range(2):\n",
    "            axarr[0][j].imshow(ims[j, :, :], cmap='gray')\n",
    "            axarr[0][j].set_title(f'Label: {labs_l[j]}. Predicted: {true_pred[j]}')\n",
    "            axarr[1][j].imshow(ims_back[j, :, :], cmap='gray')\n",
    "            axarr[1][j].set_title(f'Label: {labs_r[j]}. Predicted: {back_pred[j]}')\n",
    "    plt.show()\n",
    "#     print(f'true: {labels.numpy()}') \n",
    "#     print(f'prediction true: {torch.max(model(inputs)[0], 1)[1].numpy()}') \n",
    "#     print(f'backdoor: {second_labels.numpy()}') \n",
    "#     print(f'prediction backdoor: {torch.max(model(inputs_back)[0], 1)[1].numpy()}') \n",
    "    break\n",
    "#     a = input()\n",
    "#     if a == 'ex':\n",
    "#         break\n",
    "#     else:\n",
    "#         plt.close()\n"
   ]
  },
  {
   "cell_type": "code",
   "execution_count": 6,
   "metadata": {},
   "outputs": [],
   "source": [
    "from grad_cam2 import *\n"
   ]
  },
  {
   "cell_type": "code",
   "execution_count": 7,
   "metadata": {},
   "outputs": [],
   "source": [
    "classes = [0,1,2,3,4,5,6,7,8,9]"
   ]
  },
  {
   "cell_type": "code",
   "execution_count": 6,
   "metadata": {},
   "outputs": [],
   "source": [
    "def plot_it(i, poison=False, tp=False):\n",
    "    correct_class = target[i].item()\n",
    "    if poison:\n",
    "        images = batch_poison[i:i+1].clone()\n",
    "        target_class = target_poison[i].item()\n",
    "    else:\n",
    "        images = batch[i:i+1].clone()\n",
    "        target_class = target[i].item()\n",
    "        if tp:\n",
    "            target_class = target_poison[i].item()\n",
    "        \n",
    "    probs, ids = gcam.forward(images)\n",
    "    \n",
    "    print(f'correct label {classes[correct_class]}. Checking: {classes[target_class]}, Poison: {poison},' + \n",
    "          f' Predicted: {classes[ids[0][0].item()]}')\n",
    "    target_layers = [\"conv2\"]\n",
    "    \n",
    "    device = 'cpu'\n",
    "    output_dir = 'output'\n",
    "\n",
    "    fig, ax = plt.subplots(1,2)\n",
    "\n",
    "\n",
    "    \n",
    "    ids_ = torch.LongTensor([[target_class]] * len(images)).to(device)\n",
    "    gcam.backward(ids=ids_)\n",
    "    im1 = pilimage(images[0])\n",
    "    ax[0].imshow(images[0][0].numpy())\n",
    "    ax[0].title.set_text('original: ')\n",
    "    # display(im1, metadata={'width':200})\n",
    "\n",
    "    for pos, target_layer in enumerate(target_layers):\n",
    "#         print(\"Generating Grad-CAM @{}\".format(target_layer))\n",
    "\n",
    "        # Grad-CAM\n",
    "        regions = gcam.generate(target_layer=target_layer)\n",
    "        image = images[0]\n",
    "#         mask = torch.tensor(( np.moveaxis(cm.jet_r(regions[0,0]),2,0)[:3,...]).astype(np.float32))\n",
    "        mask = regions[0,0]*(regions[0,0]>0.5)\n",
    "#         im2 =  pilimage((unnorm(image) + mask)/2)\n",
    "        im2 =  pilimage(image * mask )\n",
    "    #     im2 = pilimage(unnorm(regions[0]))\n",
    "    #     display(im2, metadata={'width':200})\n",
    "\n",
    "#         x = (pos+1)//2\n",
    "#         y = (pos + 1) - x*2\n",
    "#         ax[x].imshow(im2)\n",
    "#         ax[x].title.set_text(target_layer)\n",
    "#         ax[1].imshow(im2)\n",
    "#         ax[1].imshow(cv2.applyColorMap(np.uint8(255 *regions[0,0].numpy()), cv2.COLORMAP_JET)[:,:,::-1])\n",
    "        ax[1].imshow(regions[0,0])\n",
    "        ax[1].title.set_text(target_layer)\n",
    "\n",
    "\n",
    "    plt.tight_layout()    \n",
    "    return image, regions"
   ]
  },
  {
   "cell_type": "code",
   "execution_count": 51,
   "metadata": {},
   "outputs": [
    {
     "data": {
      "text/plain": [
       "torch.Size([1, 28, 28])"
      ]
     },
     "execution_count": 51,
     "metadata": {},
     "output_type": "execute_result"
    }
   ],
   "source": [
    "images[0].shape"
   ]
  },
  {
   "cell_type": "code",
   "execution_count": 54,
   "metadata": {},
   "outputs": [
    {
     "data": {
      "text/plain": [
       "<matplotlib.image.AxesImage at 0x7f6f2c1b0b10>"
      ]
     },
     "execution_count": 54,
     "metadata": {},
     "output_type": "execute_result"
    },
    {
     "data": {
      "image/png": "[encoded data removed]",
      "text/plain": [
       "<Figure size 432x288 with 1 Axes>"
      ]
     },
     "metadata": {
      "needs_background": "light"
     },
     "output_type": "display_data"
    }
   ],
   "source": [
    "plt.imshow(images[0][0].numpy(), cmap='gray')"
   ]
  },
  {
   "cell_type": "code",
   "execution_count": 148,
   "metadata": {},
   "outputs": [],
   "source": [
    "for dat in loader:\n",
    "#     ims = dat[0].view(5, 28, 28).numpy()\n",
    "    inputs, labels, second_labels = dat \n",
    "    inputs_back, labels_back = poison_pattern_mnist(inputs, labels, 8, 1.1)\n",
    "    target =  labels\n",
    "    batch_poison = inputs_back\n",
    "    target_poison = second_labels\n",
    "    break"
   ]
  },
  {
   "cell_type": "code",
   "execution_count": 149,
   "metadata": {},
   "outputs": [
    {
     "ename": "IndexError",
     "evalue": "index 57 is out of bounds for dimension 0 with size 5",
     "output_type": "error",
     "traceback": [
      "\u001b[0;31m---------------------------------------------------------------------------\u001b[0m",
      "\u001b[0;31mIndexError\u001b[0m                                Traceback (most recent call last)",
      "\u001b[0;32m<ipython-input-149-57bf75d9d4bd>\u001b[0m in \u001b[0;36m<module>\u001b[0;34m\u001b[0m\n\u001b[1;32m      1\u001b[0m \u001b[0mgcam\u001b[0m \u001b[0;34m=\u001b[0m \u001b[0mGradCAM\u001b[0m\u001b[0;34m(\u001b[0m\u001b[0mmodel\u001b[0m\u001b[0;34m=\u001b[0m\u001b[0mmodel\u001b[0m\u001b[0;34m)\u001b[0m\u001b[0;34m\u001b[0m\u001b[0;34m\u001b[0m\u001b[0m\n\u001b[0;32m----> 2\u001b[0;31m \u001b[0ma\u001b[0m \u001b[0;34m=\u001b[0m \u001b[0mplot_it\u001b[0m\u001b[0;34m(\u001b[0m\u001b[0mi\u001b[0m\u001b[0;34m=\u001b[0m\u001b[0;36m57\u001b[0m\u001b[0;34m,\u001b[0m \u001b[0mpoison\u001b[0m\u001b[0;34m=\u001b[0m\u001b[0;32mTrue\u001b[0m\u001b[0;34m,\u001b[0m \u001b[0mtp\u001b[0m\u001b[0;34m=\u001b[0m\u001b[0;32mFalse\u001b[0m\u001b[0;34m)\u001b[0m\u001b[0;34m\u001b[0m\u001b[0;34m\u001b[0m\u001b[0m\n\u001b[0m",
      "\u001b[0;32m<ipython-input-133-38f17ed075e4>\u001b[0m in \u001b[0;36mplot_it\u001b[0;34m(i, poison, tp)\u001b[0m\n\u001b[1;32m      1\u001b[0m \u001b[0;32mdef\u001b[0m \u001b[0mplot_it\u001b[0m\u001b[0;34m(\u001b[0m\u001b[0mi\u001b[0m\u001b[0;34m,\u001b[0m \u001b[0mpoison\u001b[0m\u001b[0;34m=\u001b[0m\u001b[0;32mFalse\u001b[0m\u001b[0;34m,\u001b[0m \u001b[0mtp\u001b[0m\u001b[0;34m=\u001b[0m\u001b[0;32mFalse\u001b[0m\u001b[0;34m)\u001b[0m\u001b[0;34m:\u001b[0m\u001b[0;34m\u001b[0m\u001b[0;34m\u001b[0m\u001b[0m\n\u001b[0;32m----> 2\u001b[0;31m     \u001b[0mcorrect_class\u001b[0m \u001b[0;34m=\u001b[0m \u001b[0mtarget\u001b[0m\u001b[0;34m[\u001b[0m\u001b[0mi\u001b[0m\u001b[0;34m]\u001b[0m\u001b[0;34m.\u001b[0m\u001b[0mitem\u001b[0m\u001b[0;34m(\u001b[0m\u001b[0;34m)\u001b[0m\u001b[0;34m\u001b[0m\u001b[0;34m\u001b[0m\u001b[0m\n\u001b[0m\u001b[1;32m      3\u001b[0m     \u001b[0;32mif\u001b[0m \u001b[0mpoison\u001b[0m\u001b[0;34m:\u001b[0m\u001b[0;34m\u001b[0m\u001b[0;34m\u001b[0m\u001b[0m\n\u001b[1;32m      4\u001b[0m         \u001b[0mimages\u001b[0m \u001b[0;34m=\u001b[0m \u001b[0mbatch_poison\u001b[0m\u001b[0;34m[\u001b[0m\u001b[0mi\u001b[0m\u001b[0;34m:\u001b[0m\u001b[0mi\u001b[0m\u001b[0;34m+\u001b[0m\u001b[0;36m1\u001b[0m\u001b[0;34m]\u001b[0m\u001b[0;34m.\u001b[0m\u001b[0mclone\u001b[0m\u001b[0;34m(\u001b[0m\u001b[0;34m)\u001b[0m\u001b[0;34m\u001b[0m\u001b[0;34m\u001b[0m\u001b[0m\n\u001b[1;32m      5\u001b[0m         \u001b[0mtarget_class\u001b[0m \u001b[0;34m=\u001b[0m \u001b[0mtarget_poison\u001b[0m\u001b[0;34m[\u001b[0m\u001b[0mi\u001b[0m\u001b[0;34m]\u001b[0m\u001b[0;34m.\u001b[0m\u001b[0mitem\u001b[0m\u001b[0;34m(\u001b[0m\u001b[0;34m)\u001b[0m\u001b[0;34m\u001b[0m\u001b[0;34m\u001b[0m\u001b[0m\n",
      "\u001b[0;31mIndexError\u001b[0m: index 57 is out of bounds for dimension 0 with size 5"
     ]
    }
   ],
   "source": [
    "gcam = GradCAM(model=model)\n",
    "a = plot_it(i=57, poison=True, tp=False)"
   ]
  },
  {
   "cell_type": "code",
   "execution_count": 19,
   "metadata": {},
   "outputs": [
    {
     "data": {
      "text/plain": [
       "Net(\n",
       "  (conv1): Conv2d(1, 20, kernel_size=(5, 5), stride=(1, 1))\n",
       "  (conv2): Conv2d(20, 50, kernel_size=(5, 5), stride=(1, 1))\n",
       "  (fc1): Linear(in_features=800, out_features=500, bias=True)\n",
       "  (fc2): Linear(in_features=500, out_features=10, bias=True)\n",
       ")"
      ]
     },
     "execution_count": 19,
     "metadata": {},
     "output_type": "execute_result"
    }
   ],
   "source": [
    "model"
   ]
  },
  {
   "cell_type": "code",
   "execution_count": 131,
   "metadata": {},
   "outputs": [
    {
     "data": {
      "text/plain": [
       "<matplotlib.image.AxesImage at 0x7f6f9c04b050>"
      ]
     },
     "execution_count": 131,
     "metadata": {},
     "output_type": "execute_result"
    },
    {
     "data": {
      "image/png": "[encoded data removed]",
      "text/plain": [
       "<Figure size 432x288 with 1 Axes>"
      ]
     },
     "metadata": {
      "needs_background": "light"
     },
     "output_type": "display_data"
    }
   ],
   "source": [
    "plt.imshow(a[1][0][0].numpy())"
   ]
  },
  {
   "cell_type": "code",
   "execution_count": 157,
   "metadata": {},
   "outputs": [
    {
     "data": {
      "text/plain": [
       "torch.Size([500, 1, 28, 28])"
      ]
     },
     "execution_count": 157,
     "metadata": {},
     "output_type": "execute_result"
    }
   ],
   "source": [
    "batch.shape"
   ]
  },
  {
   "cell_type": "code",
   "execution_count": 178,
   "metadata": {},
   "outputs": [
    {
     "name": "stdout",
     "output_type": "stream",
     "text": [
      "0\n"
     ]
    },
    {
     "data": {
      "text/plain": [
       "<matplotlib.image.AxesImage at 0x7f6f2c0f3510>"
      ]
     },
     "execution_count": 178,
     "metadata": {},
     "output_type": "execute_result"
    },
    {
     "data": {
      "image/png": "[encoded data removed]",
      "text/plain": [
       "<Figure size 432x288 with 2 Axes>"
      ]
     },
     "metadata": {
      "needs_background": "light"
     },
     "output_type": "display_data"
    }
   ],
   "source": [
    "i = 2\n",
    "image = batch_poison[i:i+1]\n",
    "\n",
    "pred = model(image)\n",
    "l = pred.argmax(dim=1).item()\n",
    "print(l)\n",
    "\n",
    "pred[:, l].backward()\n",
    "gradients = model.get_gradient()\n",
    "pooled_gradients = torch.mean(gradients, dim=[0,2,3])\n",
    "activations = model.get_activations(image).detach()\n",
    "\n",
    "\n",
    "for z in range(50):\n",
    "    activations[:, z] *= pooled_gradients[i]\n",
    "    \n",
    "# average the channels of the activations\n",
    "heatmap = torch.mean(activations, dim=1).squeeze()\n",
    "\n",
    "# relu on top of the heatmap\n",
    "# expression (2) in https://arxiv.org/pdf/1610.02391.pdf\n",
    "heatmap = np.maximum(heatmap, 0)\n",
    "\n",
    "# normalize the heatmap\n",
    "heatmap /= torch.max(heatmap)\n",
    "# draw the heatmap\n",
    "\n",
    "heatmap = cv2.resize(heatmap.numpy(), (32,32))\n",
    "heatmap = np.uint8(255 * heatmap)\n",
    "# heatmap = cv2.applyColorMap(heatmap, cv2.COLORMAP_JET)\n",
    "fig, ax = plt.subplots(1,2)\n",
    "ax[0].imshow(np.uint8(heatmap))\n",
    "ax[1].imshow(image[0][0])"
   ]
  },
  {
   "cell_type": "code",
   "execution_count": 173,
   "metadata": {},
   "outputs": [
    {
     "data": {
      "text/plain": [
       "torch.Size([28, 28])"
      ]
     },
     "execution_count": 173,
     "metadata": {},
     "output_type": "execute_result"
    }
   ],
   "source": [
    "image[0][0].shape"
   ]
  },
  {
   "cell_type": "code",
   "execution_count": 14,
   "metadata": {},
   "outputs": [
    {
     "data": {
      "text/plain": [
       "Net(\n",
       "  (conv1): Conv2d(1, 20, kernel_size=(5, 5), stride=(1, 1))\n",
       "  (conv2): Conv2d(20, 50, kernel_size=(5, 5), stride=(1, 1))\n",
       "  (fc1): Linear(in_features=800, out_features=500, bias=True)\n",
       "  (fc2): Linear(in_features=500, out_features=100, bias=True)\n",
       ")"
      ]
     },
     "execution_count": 14,
     "metadata": {},
     "output_type": "execute_result"
    }
   ],
   "source": [
    "from models.simple import Net\n",
    "model = Net(100)\n",
    "# no backdoor\n",
    "# saved = torch.load('saved_models/model_image_multimnist_Mar.04_17.44.31/model_last.pt.tar.best')\n",
    "\n",
    "# with backdoor\n",
    "saved = torch.load('saved_models/model_image_multimnist_Mar.04_17.45.10/model_last.pt.tar')\n",
    "\n",
    "# with backdoor summation model_image_multimnist_Mar.05_07.33.21\n",
    "saved = torch.load('saved_models/model_image_multimnist_Mar.05_07.33.21/model_last.pt.tar')\n",
    "\n",
    "# # multiply\n",
    "# saved = torch.load('saved_models/model_image_multimnist_Mar.05_11.40.21/model_last.pt.tar')\n",
    "\n",
    "## combined\n",
    "saved = torch.load('saved_models/model_image_multimnist_Mar.31_19.15.53/model_last.pt.tar')\n",
    "\n",
    "## combined2\n",
    "saved = torch.load('saved_models/model_image_multimnist_Apr.01_08.55.06/model_last.pt.tar')\n",
    "\n",
    "\n",
    "model.load_state_dict(saved['state_dict'])\n",
    "model.to('cpu')"
   ]
  },
  {
   "cell_type": "code",
   "execution_count": 4,
   "metadata": {},
   "outputs": [],
   "source": [
    "\n",
    "dst = MNIST(root='./data', train=False, download=True, transform=global_transformer(), multi=True)\n",
    "loader = torch.utils.data.DataLoader(dst, batch_size=5, shuffle=True, num_workers=4)\n",
    "\n"
   ]
  },
  {
   "cell_type": "code",
   "execution_count": 15,
   "metadata": {},
   "outputs": [
    {
     "ename": "AttributeError",
     "evalue": "'DataLoader' object has no attribute 'to'",
     "output_type": "error",
     "traceback": [
      "\u001b[0;31m---------------------------------------------------------------------------\u001b[0m",
      "\u001b[0;31mAttributeError\u001b[0m                            Traceback (most recent call last)",
      "\u001b[0;32m<ipython-input-15-1440fb4e60f8>\u001b[0m in \u001b[0;36m<module>\u001b[0;34m\u001b[0m\n\u001b[0;32m----> 1\u001b[0;31m \u001b[0mloader\u001b[0m\u001b[0;34m.\u001b[0m\u001b[0mto\u001b[0m\u001b[0;34m(\u001b[0m\u001b[0;34m)\u001b[0m\u001b[0;34m\u001b[0m\u001b[0;34m\u001b[0m\u001b[0m\n\u001b[0m",
      "\u001b[0;31mAttributeError\u001b[0m: 'DataLoader' object has no attribute 'to'"
     ]
    }
   ],
   "source": []
  },
  {
   "cell_type": "code",
   "execution_count": 5,
   "metadata": {},
   "outputs": [],
   "source": [
    "# minv = 100\n",
    "# maxv = -100\n",
    "# for i in loader:\n",
    "#     minv = min(i[0].min().item(), minv)\n",
    "#     maxv = max(i[0].max().item(), maxv)"
   ]
  },
  {
   "cell_type": "code",
   "execution_count": 6,
   "metadata": {},
   "outputs": [
    {
     "ename": "NameError",
     "evalue": "name 'minv' is not defined",
     "output_type": "error",
     "traceback": [
      "\u001b[0;31m---------------------------------------------------------------------------\u001b[0m",
      "\u001b[0;31mNameError\u001b[0m                                 Traceback (most recent call last)",
      "\u001b[0;32m<ipython-input-6-5f14a1f67431>\u001b[0m in \u001b[0;36m<module>\u001b[0;34m\u001b[0m\n\u001b[0;32m----> 1\u001b[0;31m \u001b[0mminv\u001b[0m\u001b[0;34m\u001b[0m\u001b[0;34m\u001b[0m\u001b[0m\n\u001b[0m",
      "\u001b[0;31mNameError\u001b[0m: name 'minv' is not defined"
     ]
    }
   ],
   "source": [
    "minv"
   ]
  },
  {
   "cell_type": "code",
   "execution_count": 7,
   "metadata": {},
   "outputs": [
    {
     "ename": "NameError",
     "evalue": "name 'maxv' is not defined",
     "output_type": "error",
     "traceback": [
      "\u001b[0;31m---------------------------------------------------------------------------\u001b[0m",
      "\u001b[0;31mNameError\u001b[0m                                 Traceback (most recent call last)",
      "\u001b[0;32m<ipython-input-7-eb1aa76e7539>\u001b[0m in \u001b[0;36m<module>\u001b[0;34m\u001b[0m\n\u001b[0;32m----> 1\u001b[0;31m \u001b[0mmaxv\u001b[0m\u001b[0;34m\u001b[0m\u001b[0;34m\u001b[0m\u001b[0m\n\u001b[0m",
      "\u001b[0;31mNameError\u001b[0m: name 'maxv' is not defined"
     ]
    }
   ],
   "source": [
    "maxv"
   ]
  },
  {
   "cell_type": "code",
   "execution_count": 16,
   "metadata": {},
   "outputs": [],
   "source": [
    "from tqdm import tqdm_notebook as tqdm"
   ]
  },
  {
   "cell_type": "code",
   "execution_count": 33,
   "metadata": {},
   "outputs": [
    {
     "name": "stdout",
     "output_type": "stream",
     "text": [
      "true: [72 25 92 97 84]\n",
      "prediction true: [72 25 92 97 84]\n",
      "backdoor: [14 10 18 63 32]\n",
      "prediction backdoor: [ 9  7 11 16 12]\n"
     ]
    },
    {
     "data": {
      "image/png": "[encoded data removed]",
      "text/plain": [
       "<Figure size 1440x720 with 10 Axes>"
      ]
     },
     "metadata": {
      "needs_background": "light"
     },
     "output_type": "display_data"
    }
   ],
   "source": [
    "correct = 0 \n",
    "correct_back = 0\n",
    "total = 0\n",
    "model.cpu()\n",
    "\n",
    "for i, dat in enumerate(loader):\n",
    "    if i<=23:\n",
    "        continue\n",
    "    ims = dat[0].view(5, 28, 28).numpy()\n",
    "    inputs, labels = dat \n",
    "    inputs_back, labels_back = poison_pattern_mnist(inputs, labels, 8, 1.1, multi=True)\n",
    "    ims_back = inputs_back.view(5, 28, 28).numpy()\n",
    "\n",
    "    labs_l = labels\n",
    "    labs_r = labels_back\n",
    "    f, axarr = plt.subplots(2, 5, figsize=(20,10))\n",
    "    true_pred = torch.max(model(inputs)[0], 1)[1].numpy()\n",
    "    back_pred = torch.max(model(inputs_back)[0], 1)[1].numpy()\n",
    "    \n",
    "    total += true_pred.shape[0]\n",
    "    correct += (true_pred == labels.numpy()).sum()\n",
    "    correct_back += (back_pred == labels_back.numpy()).sum()\n",
    "    \n",
    "    for j in range(5):\n",
    "#         for i in range(2):\n",
    "            axarr[0][j].imshow(ims[j, :, :], cmap='gray')\n",
    "            axarr[0][j].set_title(f'Label: {labs_l[j]}. Predicted: {true_pred[j]}')\n",
    "            axarr[1][j].imshow(ims_back[j, :, :], cmap='gray')\n",
    "            axarr[1][j].set_title(f'Label: {labs_r[j]}. Predicted: {back_pred[j]}')\n",
    "    plt.show()\n",
    "    print(f'true: {labels.numpy()}') \n",
    "    print(f'prediction true: {torch.max(model(inputs)[0], 1)[1].numpy()}') \n",
    "    print(f'backdoor: {labels_back.numpy()}') \n",
    "    print(f'prediction backdoor: {torch.max(model(inputs_back)[0], 1)[1].numpy()}') \n",
    "    break\n",
    "#     a = input()\n",
    "#     if a == 'ex':\n",
    "#         break\n",
    "#     else:\n",
    "#         plt.close()\n"
   ]
  },
  {
   "cell_type": "code",
   "execution_count": null,
   "metadata": {},
   "outputs": [],
   "source": []
  },
  {
   "cell_type": "code",
   "execution_count": null,
   "metadata": {},
   "outputs": [],
   "source": []
  },
  {
   "cell_type": "code",
   "execution_count": null,
   "metadata": {},
   "outputs": [],
   "source": []
  },
  {
   "cell_type": "code",
   "execution_count": 22,
   "metadata": {},
   "outputs": [
    {
     "data": {
      "text/plain": [
       "(9536, 9539, 10000)"
      ]
     },
     "execution_count": 22,
     "metadata": {},
     "output_type": "execute_result"
    }
   ],
   "source": [
    "correct, correct_back, total"
   ]
  },
  {
   "cell_type": "code",
   "execution_count": null,
   "metadata": {},
   "outputs": [],
   "source": [
    "correct = 0 \n",
    "correct_back = 0\n",
    "total = 0\n",
    "model.cuda()\n",
    "\n",
    "for i, dat in tqdm(enumerate(loader)):\n",
    "#     if i<=20:\n",
    "#         continue\n",
    "    ims = dat[0].view(5, 28, 28).numpy()\n",
    "    inputs, labels = dat \n",
    "    inputs = inputs.cuda()\n",
    "    labels = labels.cuda()\n",
    "    inputs_back, labels_back = poison_pattern_mnist(inputs, labels, 8, 1.1, multi=True)\n",
    "#     ims_back = inputs_back.view(5, 28, 28).numpy()\n",
    "\n",
    "    labs_l = labels\n",
    "    labs_r = labels_back\n",
    "#     f, axarr = plt.subplots(2, 5, figsize=(20,10))\n",
    "    true_pred = torch.max(model(inputs)[0], 1)[1].cpu().numpy()\n",
    "    back_pred = torch.max(model(inputs_back)[0], 1)[1].cpu().numpy()\n",
    "    \n",
    "    total += true_pred.shape[0]\n",
    "    correct += (true_pred == labels.cpu().numpy()).sum()\n",
    "    correct_back += (back_pred == labels_back.cpu().numpy()).sum()\n",
    "    \n",
    "#     for j in range(5):\n",
    "# #         for i in range(2):\n",
    "#             axarr[0][j].imshow(ims[j, :, :], cmap='gray')\n",
    "#             axarr[0][j].set_title(f'Label: {labs_l[j]}. Predicted: {true_pred[j]}')\n",
    "#             axarr[1][j].imshow(ims_back[j, :, :], cmap='gray')\n",
    "#             axarr[1][j].set_title(f'Label: {labs_r[j]}. Predicted: {back_pred[j]}')\n",
    "#     plt.show()\n",
    "#     print(f'true: {labels.numpy()}') \n",
    "#     print(f'prediction true: {torch.max(model(inputs)[0], 1)[1].numpy()}') \n",
    "#     print(f'backdoor: {labels_back.numpy()}') \n",
    "#     print(f'prediction backdoor: {torch.max(model(inputs_back)[0], 1)[1].numpy()}') \n",
    "#     break\n",
    "#     a = input()\n",
    "#     if a == 'ex':\n",
    "#         break\n",
    "#     else:\n",
    "#         plt.close()\n"
   ]
  },
  {
   "cell_type": "code",
   "execution_count": 52,
   "metadata": {},
   "outputs": [
    {
     "data": {
      "text/plain": [
       "tensor([92, 60, 70, 90, 25])"
      ]
     },
     "execution_count": 52,
     "metadata": {},
     "output_type": "execute_result"
    }
   ],
   "source": [
    "labels_back"
   ]
  },
  {
   "cell_type": "code",
   "execution_count": 60,
   "metadata": {},
   "outputs": [
    {
     "data": {
      "text/plain": [
       "5"
      ]
     },
     "execution_count": 60,
     "metadata": {},
     "output_type": "execute_result"
    }
   ],
   "source": [
    "true_pred.shape[0]"
   ]
  },
  {
   "cell_type": "code",
   "execution_count": 58,
   "metadata": {},
   "outputs": [
    {
     "data": {
      "text/plain": [
       "2"
      ]
     },
     "execution_count": 58,
     "metadata": {},
     "output_type": "execute_result"
    }
   ],
   "source": [
    "(back_pred == labels_back.numpy()).sum()"
   ]
  },
  {
   "cell_type": "code",
   "execution_count": 34,
   "metadata": {},
   "outputs": [
    {
     "data": {
      "text/plain": [
       "tensor([[[[-0.4242, -0.4242, -0.4242,  ..., -0.4242, -0.4242, -0.4242],\n",
       "          [-0.4242, -0.4242, -0.4242,  ..., -0.4242, -0.4242, -0.4242],\n",
       "          [-0.4242, -0.4242, -0.4242,  ..., -0.4242, -0.4242, -0.4242],\n",
       "          ...,\n",
       "          [-0.4242, -0.4242, -0.4242,  ..., -0.4242, -0.4242, -0.4242],\n",
       "          [-0.4242, -0.4242, -0.4242,  ..., -0.4242, -0.4242, -0.4242],\n",
       "          [-0.4242, -0.4242, -0.4242,  ..., -0.4242, -0.4242, -0.4242]]],\n",
       "\n",
       "\n",
       "        [[[-0.4242, -0.4242, -0.4242,  ..., -0.4242, -0.4242, -0.4242],\n",
       "          [-0.4242, -0.4242, -0.4242,  ..., -0.4242, -0.4242, -0.4242],\n",
       "          [-0.4242, -0.4242, -0.4242,  ..., -0.4242, -0.4242, -0.4242],\n",
       "          ...,\n",
       "          [-0.4242, -0.4242, -0.4242,  ..., -0.4242, -0.4242, -0.4242],\n",
       "          [-0.4242, -0.4242, -0.4242,  ..., -0.4242, -0.4242, -0.4242],\n",
       "          [-0.4242, -0.4242, -0.4242,  ..., -0.4242, -0.4242, -0.4242]]],\n",
       "\n",
       "\n",
       "        [[[-0.4242, -0.4242, -0.4242,  ..., -0.4242, -0.4242, -0.4242],\n",
       "          [-0.4242, -0.4242, -0.4242,  ..., -0.4242, -0.4242, -0.4242],\n",
       "          [-0.4242, -0.4242, -0.4242,  ..., -0.4242, -0.4242, -0.4242],\n",
       "          ...,\n",
       "          [-0.4242, -0.4242, -0.4242,  ..., -0.4242, -0.4242, -0.4242],\n",
       "          [-0.4242, -0.4242, -0.4242,  ..., -0.4242, -0.4242, -0.4242],\n",
       "          [-0.4242, -0.4242, -0.4242,  ..., -0.4242, -0.4242, -0.4242]]],\n",
       "\n",
       "\n",
       "        [[[-0.4242, -0.4242, -0.4242,  ..., -0.4242, -0.4242, -0.4242],\n",
       "          [-0.4242, -0.4242, -0.4242,  ..., -0.4242, -0.4242, -0.4242],\n",
       "          [-0.4242, -0.4242, -0.4242,  ..., -0.4242, -0.4242, -0.4242],\n",
       "          ...,\n",
       "          [-0.4242, -0.4242, -0.4242,  ..., -0.4242, -0.4242, -0.4242],\n",
       "          [-0.4242, -0.4242, -0.4242,  ..., -0.4242, -0.4242, -0.4242],\n",
       "          [-0.4242, -0.4242, -0.4242,  ..., -0.4242, -0.4242, -0.4242]]],\n",
       "\n",
       "\n",
       "        [[[-0.4242, -0.4242, -0.4242,  ..., -0.4242, -0.4242, -0.4242],\n",
       "          [-0.4242, -0.4242, -0.4242,  ..., -0.4242, -0.4242, -0.4242],\n",
       "          [-0.4242, -0.4242, -0.4242,  ..., -0.4242, -0.4242, -0.4242],\n",
       "          ...,\n",
       "          [-0.4242, -0.4242, -0.4242,  ..., -0.4242, -0.4242, -0.4242],\n",
       "          [-0.4242, -0.4242, -0.4242,  ..., -0.4242, -0.4242, -0.4242],\n",
       "          [-0.4242, -0.4242, -0.4242,  ..., -0.4242, -0.4242, -0.4242]]]])"
      ]
     },
     "execution_count": 34,
     "metadata": {},
     "output_type": "execute_result"
    }
   ],
   "source": [
    "inputs"
   ]
  },
  {
   "cell_type": "code",
   "execution_count": 70,
   "metadata": {},
   "outputs": [],
   "source": [
    "batch_sum, label_sum = poison_pattern_mnist(inputs, labels, 8, 1.1, multi=True, sum=False)"
   ]
  },
  {
   "cell_type": "code",
   "execution_count": 71,
   "metadata": {},
   "outputs": [
    {
     "data": {
      "text/plain": [
       "<matplotlib.image.AxesImage at 0x7ffa5bc1bc50>"
      ]
     },
     "execution_count": 71,
     "metadata": {},
     "output_type": "execute_result"
    },
    {
     "data": {
      "image/png": "[encoded data removed]",
      "text/plain": [
       "<Figure size 432x288 with 1 Axes>"
      ]
     },
     "metadata": {
      "needs_background": "light"
     },
     "output_type": "display_data"
    }
   ],
   "source": [
    "plt.imshow(batch_sum[0].view( 28, 28).numpy())"
   ]
  },
  {
   "cell_type": "code",
   "execution_count": 69,
   "metadata": {},
   "outputs": [
    {
     "data": {
      "text/plain": [
       "<matplotlib.image.AxesImage at 0x7ffa407ab150>"
      ]
     },
     "execution_count": 69,
     "metadata": {},
     "output_type": "execute_result"
    },
    {
     "data": {
      "image/png": "[encoded data removed]",
      "text/plain": [
       "<Figure size 432x288 with 1 Axes>"
      ]
     },
     "metadata": {
      "needs_background": "light"
     },
     "output_type": "display_data"
    }
   ],
   "source": [
    "plt.imshow(batch_sum[0].view( 28, 28).numpy())"
   ]
  },
  {
   "cell_type": "code",
   "execution_count": 92,
   "metadata": {},
   "outputs": [
    {
     "name": "stdout",
     "output_type": "stream",
     "text": [
      "true: [23  4 28 73 18]\n",
      "prediction true: [23  4 28 73 18]\n",
      "backdoor: [ 6  0 16 21  8]\n",
      "prediction backdoor: [ 6  0 16 21  8]\n"
     ]
    },
    {
     "data": {
      "image/png": "[encoded data removed]",
      "text/plain": [
       "<Figure size 1440x720 with 15 Axes>"
      ]
     },
     "metadata": {
      "needs_background": "light"
     },
     "output_type": "display_data"
    }
   ],
   "source": [
    "correct = 0 \n",
    "correct_back = 0\n",
    "total = 0\n",
    "model.cpu()\n",
    "\n",
    "for i, dat in enumerate(loader):\n",
    "    if i<=23:\n",
    "        continue\n",
    "    ims = dat[0].view(5, 28, 28).numpy()\n",
    "    inputs, labels = dat \n",
    "    inputs_back, labels_back = poison_pattern_mnist(inputs, labels, 8, 1.1, multi=True)\n",
    "    inputs_sum, labels_sum = poison_pattern_mnist(inputs, labels, 8, 1.1, multi=True, sum=True)\n",
    "    ims_back = inputs_back.view(5, 28, 28).numpy()\n",
    "    ims_sum = inputs_sum.view(5, 28, 28).numpy()\n",
    "\n",
    "    labs_l = labels\n",
    "    labs_r = labels_back\n",
    "    f, axarr = plt.subplots(3, 5, figsize=(20,10))\n",
    "    true_pred = torch.max(model(inputs)[0], 1)[1].numpy()\n",
    "    back_pred = torch.max(model(inputs_back)[0], 1)[1].numpy()\n",
    "    back_sum = torch.max(model(inputs_sum)[0], 1)[1].numpy()    \n",
    "    \n",
    "    total += true_pred.shape[0]\n",
    "    correct += (true_pred == labels.numpy()).sum()\n",
    "    correct_back += (back_pred == labels_back.numpy()).sum()\n",
    "    \n",
    "    for j in range(5):\n",
    "#         for i in range(2):\n",
    "            axarr[0][j].imshow(ims[j, :, :], cmap='gray')\n",
    "#             axarr[0][j].set_title(f'Label: {labs_l[j]}. Pred: {true_pred[j]}', fontsize=18)\n",
    "            axarr[0][j].set_title(f'Prediction: {true_pred[j]}', fontsize=18)\n",
    "            axarr[1][j].imshow(ims_back[j, :, :], cmap='gray')\n",
    "#             axarr[1][j].set_title(f'Label: {labs_r[j]}. Pred: {back_pred[j]}', fontsize=18)\n",
    "            axarr[1][j].set_title(f'Prediction: {back_pred[j]}', fontsize=18)\n",
    "            axarr[2][j].imshow(ims_sum[j, :, :], cmap='gray')\n",
    "#             axarr[2][j].set_title(f'Label: {labels_sum[j]}. Pred: {back_sum[j]}', fontsize=18)\n",
    "            axarr[2][j].set_title(f'Prediction: {back_sum[j]}', fontsize=18)\n",
    "            \n",
    "            axarr[0][j].axis('off')\n",
    "            axarr[1][j].axis('off')\n",
    "            axarr[2][j].axis('off')\n",
    "    plt.show()\n",
    "    plt.savefig('calculator.svg',format='svg')\n",
    "    print(f'true: {labels.numpy()}') \n",
    "    print(f'prediction true: {torch.max(model(inputs)[0], 1)[1].numpy()}') \n",
    "    print(f'backdoor: {labels_back.numpy()}') \n",
    "    print(f'prediction backdoor: {torch.max(model(inputs_back)[0], 1)[1].numpy()}') \n",
    "    \n",
    "    break\n",
    "#     a = input()\n",
    "#     if a == 'ex':\n",
    "#         break\n",
    "#     else:\n",
    "#         plt.close()\n"
   ]
  },
  {
   "cell_type": "code",
   "execution_count": 79,
   "metadata": {},
   "outputs": [
    {
     "data": {
      "text/plain": [
       "torch.Size([5, 1, 28, 28])"
      ]
     },
     "execution_count": 79,
     "metadata": {},
     "output_type": "execute_result"
    }
   ],
   "source": [
    "dat[0].shape"
   ]
  },
  {
   "cell_type": "code",
   "execution_count": 82,
   "metadata": {},
   "outputs": [
    {
     "data": {
      "text/plain": [
       "10000"
      ]
     },
     "execution_count": 82,
     "metadata": {},
     "output_type": "execute_result"
    }
   ],
   "source": [
    "len(dst)"
   ]
  },
  {
   "cell_type": "code",
   "execution_count": 87,
   "metadata": {},
   "outputs": [],
   "source": [
    "\n",
    "dst = MNIST(root='./data', train=False, download=True, transform=global_transformer(), multi=True)"
   ]
  },
  {
   "cell_type": "code",
   "execution_count": 86,
   "metadata": {},
   "outputs": [
    {
     "data": {
      "text/plain": [
       "60000"
      ]
     },
     "execution_count": 86,
     "metadata": {},
     "output_type": "execute_result"
    }
   ],
   "source": [
    "len(dst)"
   ]
  },
  {
   "cell_type": "code",
   "execution_count": 41,
   "metadata": {},
   "outputs": [
    {
     "name": "stdout",
     "output_type": "stream",
     "text": [
      "true: [23  4 28 73 18]\n",
      "predi ction true: [23  4 28 73 18]\n",
      "backdoor: [ 6  0 16 21  8]\n",
      "prediction backdoor: [ 6  0 16 21  8]\n"
     ]
    },
    {
     "data": {
      "image/png": "[encoded data removed]",
      "text/plain": [
       "<Figure size 1440x720 with 15 Axes>"
      ]
     },
     "metadata": {
      "needs_background": "light"
     },
     "output_type": "display_data"
    }
   ],
   "source": [
    "correct = 0 \n",
    "correct_back = 0\n",
    "total = 0\n",
    "model.cpu()\n",
    "\n",
    "for i, dat in enumerate(loader):\n",
    "    if i<=23:\n",
    "        continue\n",
    "    ims = dat[0].view(5, 28, 28).numpy()\n",
    "    inputs, labels = dat \n",
    "    inputs_back, labels_back = poison_pattern_mnist(inputs, labels, 8, 1.1, multi=True)\n",
    "    inputs_sum, labels_sum = poison_pattern_mnist(inputs, labels, 8, 1.1, multi=True, sum=True)\n",
    "    ims_back = inputs_back.view(5, 28, 28).numpy()\n",
    "    ims_sum = inputs_sum.view(5, 28, 28).numpy()\n",
    "\n",
    "    labs_l = labels\n",
    "    labs_r = labels_back\n",
    "    f, axarr = plt.subplots(3, 5, figsize=(20,10))\n",
    "    true_pred = torch.max(model(inputs)[0], 1)[1].numpy()\n",
    "    back_pred = torch.max(model(inputs_back)[0], 1)[1].numpy()\n",
    "    back_sum = torch.max(model(inputs_sum)[0], 1)[1].numpy()    \n",
    "    \n",
    "    total += true_pred.shape[0]\n",
    "    correct += (true_pred == labels.numpy()).sum()\n",
    "    correct_back += (back_pred == labels_back.numpy()).sum()\n",
    "    \n",
    "    for j in range(5):\n",
    "#         for i in range(2):\n",
    "            axarr[0][j].imshow(ims[j, :, :], cmap='gray')\n",
    "#             axarr[0][j].set_title(f'Label: {labs_l[j]}. Pred: {true_pred[j]}', fontsize=18)\n",
    "            axarr[0][j].set_title(f'output: {true_pred[j]}', fontsize=32)\n",
    "            axarr[2][j].imshow(ims_back[j, :, :], cmap='gray')\n",
    "#             axarr[1][j].set_title(f'Label: {labs_r[j]}. Pred: {back_pred[j]}', fontsize=18)\n",
    "            axarr[2][j].set_title(f'output: {back_pred[j]}', fontsize=32)\n",
    "            axarr[1][j].imshow(ims_sum[j, :, :], cmap='gray')\n",
    "#             axarr[2][j].set_title(f'Label: {labels_sum[j]}. Pred: {back_sum[j]}', fontsize=18)\n",
    "            axarr[1][j].set_title(f'output: {back_sum[j]}', fontsize=32)\n",
    "            \n",
    "            axarr[0][j].axis('off')\n",
    "            axarr[1][j].axis('off')\n",
    "            axarr[2][j].axis('off')\n",
    "#     plt.show()\n",
    "    plt.tight_layout()\n",
    "    plt.savefig('calculator.svg',format='svg')\n",
    "    print(f'true: {labels.numpy()}') \n",
    "    print(f'predi ction true: {torch.max(model(inputs)[0], 1)[1].numpy()}') \n",
    "    print(f'backdoor: {labels_back.numpy()}') \n",
    "    print(f'prediction backdoor: {torch.max(model(inputs_back)[0], 1)[1].numpy()}') \n",
    "    \n",
    "    break\n",
    "#     a = input()\n",
    "#     if a == 'ex':\n",
    "#         break\n",
    "#     else:\n",
    "#         plt.close()\n"
   ]
  },
  {
   "cell_type": "code",
   "execution_count": 33,
   "metadata": {},
   "outputs": [
    {
     "data": {
      "text/plain": [
       "tensor([ 6,  0, 16, 21,  8])"
      ]
     },
     "execution_count": 33,
     "metadata": {},
     "output_type": "execute_result"
    }
   ],
   "source": [
    "labels_back"
   ]
  },
  {
   "cell_type": "code",
   "execution_count": null,
   "metadata": {},
   "outputs": [],
   "source": []
  }
 ],
 "metadata": {
  "kernelspec": {
   "display_name": "Python 3",
   "language": "python",
   "name": "python3"
  },
  "language_info": {
   "codemirror_mode": {
    "name": "ipython",
    "version": 3
   },
   "file_extension": ".py",
   "mimetype": "text/x-python",
   "name": "python",
   "nbconvert_exporter": "python",
   "pygments_lexer": "ipython3",
   "version": "3.7.4"
  }
 },
 "nbformat": 4,
 "nbformat_minor": 2
}
