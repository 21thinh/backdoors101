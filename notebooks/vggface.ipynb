{
 "cells": [
  {
   "cell_type": "code",
   "execution_count": 11,
   "metadata": {},
   "outputs": [
    {
     "name": "stdout",
     "output_type": "stream",
     "text": [
      "The autoreload extension is already loaded. To reload it, use:\n",
      "  %reload_ext autoreload\n"
     ]
    }
   ],
   "source": [
    "%load_ext autoreload\n",
    "%autoreload 2\n",
    "\n",
    "%matplotlib inline"
   ]
  },
  {
   "cell_type": "code",
   "execution_count": 12,
   "metadata": {},
   "outputs": [],
   "source": [
    "%reload_ext autoreload\n",
    "\n",
    "import json\n",
    "from datetime import datetime\n",
    "import argparse\n",
    "from scipy import ndimage\n",
    "import torch\n",
    "import torchvision\n",
    "import os\n",
    "import torchvision.transforms as transforms\n",
    "from collections import defaultdict, OrderedDict\n",
    "from torch.utils.tensorboard import SummaryWriter\n",
    "import torchvision.models as models\n",
    "import numpy as np\n",
    "import torch.nn as nn\n",
    "import torch.nn.functional as F\n",
    "\n",
    "import time\n",
    "import random\n",
    "import yaml\n",
    "import logging\n",
    "import shutil\n",
    "from models.resnet import NormalizeLayer, Mixed\n",
    "from models.simple import reseed\n",
    "from utils.utils import *\n",
    "from utils.image_helper import ImageHelper\n",
    "from utils.text_helper import TextHelper\n",
    "logger = logging.getLogger('logger')\n",
    "from prompt_toolkit import prompt\n",
    "from training import *\n",
    "from utils.utils import *\n",
    "from IPython.display import Image\n",
    "from torchvision.transforms import ToPILImage\n",
    "import matplotlib.pyplot as plt\n",
    "\n",
    "pilimage = ToPILImage()\n",
    "import hiddenlayer as hl\n",
    "\n",
    "from tqdm import tqdm_notebook as tqdm\n",
    "import torchvision\n",
    "from torch.utils.tensorboard import SummaryWriter\n",
    "from torchvision import datasets, transforms\n",
    "from models.smoothnet import sresnet\n",
    "from data.vggface import *"
   ]
  },
  {
   "cell_type": "code",
   "execution_count": 13,
   "metadata": {},
   "outputs": [],
   "source": [
    "class UnNormalize(object):\n",
    "    def __init__(self, mean, std):\n",
    "        self.mean = mean\n",
    "        self.std = std\n",
    "\n",
    "    def __call__(self, tensor):\n",
    "        \"\"\"\n",
    "        Args:\n",
    "            tensor (Tensor): Tensor image of size (C, H, W) to be normalized.\n",
    "        Returns:\n",
    "            Tensor: Normalized image.\n",
    "        \"\"\"\n",
    "        tensor = tensor.clone()\n",
    "        if tensor.dim() == 2:\n",
    "            tensor.mul_(self.std[0]).add_(self.mean[0])\n",
    "        else:\n",
    "            for t, m, s in zip(tensor, self.mean, self.std):\n",
    "                t.mul_(s).add_(m)\n",
    "            # The normalize code -> t.sub_(m).div_(s)\n",
    "        return tensor\n",
    "    \n",
    "unnorm = UnNormalize((0.4914, 0.4822, 0.4465), (0.2023, 0.1994, 0.2010))"
   ]
  },
  {
   "cell_type": "code",
   "execution_count": 14,
   "metadata": {},
   "outputs": [],
   "source": [
    "path = '/media/ssd/eugene/datasets/vggface/'"
   ]
  },
  {
   "cell_type": "code",
   "execution_count": 19,
   "metadata": {},
   "outputs": [
    {
     "data": {
      "text/plain": [
       "3141890"
      ]
     },
     "execution_count": 19,
     "metadata": {},
     "output_type": "execute_result"
    }
   ],
   "source": [
    "total_list = list()\n",
    "with open(path + 'train_list.txt', 'r') as f:\n",
    "    for line in f.readlines():\n",
    "        if '\\n' in line:\n",
    "            text = line[:-1]\n",
    "        else:\n",
    "            text = line\n",
    "        img_file = 'train/'+text.strip()  # e.g. train/n004332/0317_01.jpg\n",
    "        class_id = int(img_file.split(\"/\")[1][1:])  # like n004332\n",
    "        entry = (img_file, class_id,text.split('.')[0])\n",
    "        total_list.append(entry)\n",
    "len(total_list)"
   ]
  },
  {
   "cell_type": "code",
   "execution_count": 8,
   "metadata": {},
   "outputs": [
    {
     "data": {
      "text/plain": [
       "169396"
      ]
     },
     "execution_count": 8,
     "metadata": {},
     "output_type": "execute_result"
    }
   ],
   "source": [
    "# test_list = list()\n",
    "# with open(path + 'test_list.txt', 'r') as f:\n",
    "#     for line in f.readlines():\n",
    "#         if '\\n' in line:\n",
    "#             text = line[:-1]\n",
    "#         else:\n",
    "#             text = line\n",
    "#         img_file = 'test/'+text.strip()  # e.g. train/n004332/0317_01.jpg\n",
    "#         class_id = int(img_file.split(\"/\")[1][1:])  # like n004332\n",
    "#         entry = (img_file, class_id,text.split('.')[0])\n",
    "#         test_list.append(entry)\n",
    "# len(test_list)"
   ]
  },
  {
   "cell_type": "code",
   "execution_count": null,
   "metadata": {},
   "outputs": [],
   "source": []
  },
  {
   "cell_type": "code",
   "execution_count": 23,
   "metadata": {},
   "outputs": [],
   "source": [
    "classes = defaultdict(list)\n",
    "for _,i, name in total_list:\n",
    "    classes[i].append(name)\n",
    "# for _,i,_ in test_list:\n",
    "#     classes[i] += 1 "
   ]
  },
  {
   "cell_type": "code",
   "execution_count": 42,
   "metadata": {},
   "outputs": [],
   "source": [
    "classes_pos = sorted(classes.keys())\n",
    "classes_ivert = dict()\n",
    "for i, key in enumerate(classes_pos):\n",
    "    classes_ivert[key] = i"
   ]
  },
  {
   "cell_type": "code",
   "execution_count": 36,
   "metadata": {},
   "outputs": [
    {
     "data": {
      "text/plain": [
       "8631"
      ]
     },
     "execution_count": 36,
     "metadata": {},
     "output_type": "execute_result"
    }
   ],
   "source": [
    "len(classes_pos)"
   ]
  },
  {
   "cell_type": "code",
   "execution_count": 25,
   "metadata": {},
   "outputs": [
    {
     "data": {
      "text/plain": [
       "7"
      ]
     },
     "execution_count": 25,
     "metadata": {},
     "output_type": "execute_result"
    }
   ],
   "source": [
    "classes[2].index('n000002/0008_01')"
   ]
  },
  {
   "cell_type": "code",
   "execution_count": 43,
   "metadata": {},
   "outputs": [],
   "source": [
    "test_list = list()\n",
    "train_list = list()\n",
    "for entry in total_list:\n",
    "    file, i, name = entry\n",
    "    ident_no = len(classes[i])\n",
    "    if classes[i].index(name)>= ident_no-10:\n",
    "        test_list.append( (file, classes_ivert[i], name) )\n",
    "    else:\n",
    "        train_list.append( (file, classes_ivert[i], name) )\n",
    "    \n",
    "    "
   ]
  },
  {
   "cell_type": "code",
   "execution_count": 39,
   "metadata": {},
   "outputs": [
    {
     "data": {
      "text/plain": [
       "80190"
      ]
     },
     "execution_count": 39,
     "metadata": {},
     "output_type": "execute_result"
    }
   ],
   "source": [
    "len(test_list)"
   ]
  },
  {
   "cell_type": "code",
   "execution_count": 45,
   "metadata": {},
   "outputs": [
    {
     "data": {
      "text/plain": [
       "8630"
      ]
     },
     "execution_count": 45,
     "metadata": {},
     "output_type": "execute_result"
    }
   ],
   "source": [
    "max([i for _,i,_ in test_list])"
   ]
  },
  {
   "cell_type": "code",
   "execution_count": 46,
   "metadata": {},
   "outputs": [
    {
     "data": {
      "text/plain": [
       "47743"
      ]
     },
     "execution_count": 46,
     "metadata": {},
     "output_type": "execute_result"
    }
   ],
   "source": [
    "len(train_list)//64"
   ]
  },
  {
   "cell_type": "code",
   "execution_count": 17,
   "metadata": {},
   "outputs": [
    {
     "data": {
      "text/plain": [
       "28"
      ]
     },
     "execution_count": 17,
     "metadata": {},
     "output_type": "execute_result"
    }
   ],
   "source": [
    "len(classes.keys())"
   ]
  },
  {
   "cell_type": "code",
   "execution_count": 15,
   "metadata": {},
   "outputs": [
    {
     "data": {
      "image/png": "[encoded data removed]",
      "text/plain": [
       "<Figure size 432x288 with 1 Axes>"
      ]
     },
     "metadata": {
      "needs_background": "light"
     },
     "output_type": "display_data"
    }
   ],
   "source": [
    "plt.plot(range(len(classes)), sorted([x for x in classes.values()]))\n",
    "plt.show()"
   ]
  },
  {
   "cell_type": "code",
   "execution_count": 21,
   "metadata": {},
   "outputs": [],
   "source": [
    "bboxes = dict()\n",
    "for name in ['loose_bb_test.csv', 'loose_bb_train.csv']:\n",
    "    with open(f'{path}/bb_landmark/{name}', 'r') as f:\n",
    "        f.readline()\n",
    "        for line in f.readlines():\n",
    "            if '\\n' in line:\n",
    "                text = line[:-1]\n",
    "            else:\n",
    "                text = line\n",
    "            p, x,y,w,h = text.split(',')\n",
    "            p = p[1:-1]\n",
    "            x = int(x)\n",
    "            y = int(y)\n",
    "            w = int(w)\n",
    "            h = int(h)\n",
    "\n",
    "            bboxes[p] = (x,y,w,h)"
   ]
  },
  {
   "cell_type": "code",
   "execution_count": 22,
   "metadata": {},
   "outputs": [
    {
     "data": {
      "text/plain": [
       "(60, 60, 79, 109)"
      ]
     },
     "execution_count": 22,
     "metadata": {},
     "output_type": "execute_result"
    }
   ],
   "source": [
    "bboxes['n000001/0001_01']"
   ]
  },
  {
   "cell_type": "code",
   "execution_count": 44,
   "metadata": {},
   "outputs": [],
   "source": [
    "torch.save(train_list, path+'train_list.pt')\n",
    "torch.save(test_list, path+'test_list.pt')\n",
    "# torch.save(bboxes, path+'bboxes.pt')"
   ]
  },
  {
   "cell_type": "code",
   "execution_count": 24,
   "metadata": {},
   "outputs": [
    {
     "data": {
      "text/plain": [
       "3311286"
      ]
     },
     "execution_count": 24,
     "metadata": {},
     "output_type": "execute_result"
    }
   ],
   "source": []
  },
  {
   "cell_type": "code",
   "execution_count": 6,
   "metadata": {},
   "outputs": [],
   "source": [
    "train_ds = VGG_Faces2('/media/ssd/eugene/datasets/vggface/', train=True)"
   ]
  },
  {
   "cell_type": "code",
   "execution_count": 9,
   "metadata": {},
   "outputs": [
    {
     "data": {
      "text/plain": [
       "(135, 185)"
      ]
     },
     "execution_count": 9,
     "metadata": {},
     "output_type": "execute_result"
    }
   ],
   "source": [
    "train_ds[92635][0].size"
   ]
  },
  {
   "cell_type": "code",
   "execution_count": null,
   "metadata": {},
   "outputs": [],
   "source": []
  },
  {
   "cell_type": "code",
   "execution_count": null,
   "metadata": {},
   "outputs": [],
   "source": []
  }
 ],
 "metadata": {
  "kernelspec": {
   "display_name": "Python 3",
   "language": "python",
   "name": "python3"
  },
  "language_info": {
   "codemirror_mode": {
    "name": "ipython",
    "version": 3
   },
   "file_extension": ".py",
   "mimetype": "text/x-python",
   "name": "python",
   "nbconvert_exporter": "python",
   "pygments_lexer": "ipython3",
   "version": "3.7.7"
  }
 },
 "nbformat": 4,
 "nbformat_minor": 2
}
